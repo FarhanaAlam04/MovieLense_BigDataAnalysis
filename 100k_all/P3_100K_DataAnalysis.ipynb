{
 "cells": [
  {
   "cell_type": "markdown",
   "id": "3cccc537-4f21-4330-a08c-6c1cd8d524e2",
   "metadata": {
    "tags": []
   },
   "source": [
    "# Project3_100K_MovieLens Data Analysis\n",
    "### Author : Farhana Alam"
   ]
  },
  {
   "cell_type": "markdown",
   "id": "dd07fd5e-e45c-4642-992e-590df76d41f5",
   "metadata": {},
   "source": [
    "[k-Most popular movies of all time](#section_1)\\\n",
    "[k-Most popular movies for a particular year](#section_2)\\\n",
    "[k-Most popular movies for a particular season](#section_3)\\\n",
    "[Top k movies with the most ratings (presumably most popular) that have the lowest ratings](#section_4)\\\n",
    "[k most popular movies for a particular age](#section_5)\\\n",
    "[For a particular genre finding k-most rated movies](#section_6)\\\n",
    "[Finding the average rating by age group](#section_7)"
   ]
  },
  {
   "cell_type": "code",
   "execution_count": 1,
   "id": "b900f7eb-fe00-4a1d-a764-ae27f0074b6c",
   "metadata": {},
   "outputs": [],
   "source": [
    "from pyspark.sql.types import *\n",
    "from pyspark.sql import SparkSession\n",
    "from pyspark.sql.functions import *\n",
    "import pyspark.sql.functions as func\n",
    "import sys\n",
    "k = 10"
   ]
  },
  {
   "cell_type": "code",
   "execution_count": 2,
   "id": "03dd5fc7-8b1c-4505-9fda-4dda9f5fa862",
   "metadata": {},
   "outputs": [],
   "source": [
    "spark = (SparkSession\n",
    "       .builder\n",
    "       .appName(\"Spark Project3 100K Movie Data Analysis\")\n",
    "       .getOrCreate())"
   ]
  },
  {
   "cell_type": "code",
   "execution_count": null,
   "id": "38beb9f7-3581-4a91-b4cb-a0c251234741",
   "metadata": {},
   "outputs": [],
   "source": [
    "# Loading DataFiles with argv \n",
    "#movies_file = sys.argv[1]\n",
    "#ratings_file = sys.argv[2]\n",
    "#tags_file = sys.argv[3]\n",
    "\n",
    "# Output CSV file path\n",
    "#output_csv_path = sys.argv[4]"
   ]
  },
  {
   "cell_type": "code",
   "execution_count": 3,
   "id": "c4f6f329-175c-4576-bf4b-21bb5aed6bb1",
   "metadata": {},
   "outputs": [],
   "source": [
    "# Loading the 10M MovieLens DataFiles\n",
    "movies_file = \"Documents/CS535/movie_data/ml-100k/u.item\"\n",
    "ratings_file = \"Documents/CS535/movie_data/ml-100k/u.data\"\n",
    "users_file = \"Documents/CS535/movie_data/ml-100k/u.user\"\n",
    "\n",
    "# Output CSV file path\n",
    "output_csv_path = \"Documents/CS535/movie_data/ml-100k-output\""
   ]
  },
  {
   "cell_type": "code",
   "execution_count": 4,
   "id": "1cf0496a-1c4e-4c9a-9769-0c34b1eebb29",
   "metadata": {},
   "outputs": [],
   "source": [
    "#movies datafiles to dataframes\n",
    "movies_df = (spark.read.format(\"csv\")\n",
    "      .option(\"sep\", \"|\")\n",
    "      .option(\"inferschema\", \"true\")\n",
    "      .option(\"samplingRatio\", 0.1)  # Adjust the sampling ratio \n",
    "      .load(movies_file)\n",
    "      .toDF(\"MovieID\",\"Titles\",\"release_date\",\"video_release_date\",\"IMDb_URL\",\"unknown\",\"Action\",\"Adventure\",\"Animation\",\"Children's\",\"Comedy\",\"Crime\",\"Documentary\",\"Drama\",\n",
    "           \"Fantasy\",\"Film-Noir\",\"Horror\",\"Musical\",\"Mystery\",\"Romance\",\"Sci-Fi\",\"Thriller\",\"War\",\"Western\"))\n",
    "#movies_df3.show(k)"
   ]
  },
  {
   "cell_type": "code",
   "execution_count": 5,
   "id": "bd15fb9c-381a-4d7b-a2ca-f1fab31b7bb5",
   "metadata": {},
   "outputs": [
    {
     "name": "stdout",
     "output_type": "stream",
     "text": [
      "+-------+--------------------+------------+------+-----+-------+\n",
      "|MovieID|              Titles|release_date|Action|Drama|Fantasy|\n",
      "+-------+--------------------+------------+------+-----+-------+\n",
      "|      1|    Toy Story (1995)| 01-Jan-1995|     0|    0|      0|\n",
      "|      2|    GoldenEye (1995)| 01-Jan-1995|     1|    0|      0|\n",
      "|      3|   Four Rooms (1995)| 01-Jan-1995|     0|    0|      0|\n",
      "|      4|   Get Shorty (1995)| 01-Jan-1995|     1|    1|      0|\n",
      "|      5|      Copycat (1995)| 01-Jan-1995|     0|    1|      0|\n",
      "|      6|Shanghai Triad (Y...| 01-Jan-1995|     0|    1|      0|\n",
      "|      7|Twelve Monkeys (1...| 01-Jan-1995|     0|    1|      0|\n",
      "|      8|         Babe (1995)| 01-Jan-1995|     0|    1|      0|\n",
      "+-------+--------------------+------------+------+-----+-------+\n",
      "only showing top 8 rows\n",
      "\n"
     ]
    }
   ],
   "source": [
    "movies_df=movies_df.select(\"MovieID\",\"Titles\",\"release_date\",\"Action\",\"Drama\",\"Fantasy\")\n",
    "movies_df.show(8)"
   ]
  },
  {
   "cell_type": "code",
   "execution_count": null,
   "id": "7b48000a-d98b-419f-ba30-af365df10b21",
   "metadata": {},
   "outputs": [],
   "source": [
    "# define schema for our data (u.item)\n",
    "#schema_item = \"`MovieID` STRING, `Titles` STRING, `release_date` STRING, `video_release_date` STRING, \\\n",
    "#`IMDb_URL` STRING, `unknown` STRING, `Action` STRING, `Adventure` STRING, `Animation` STRING, `Children's` STRING, `Comedy` STRING, `Crime` STRING, `Documentary` STRING, `Drama` STRING, `Fantasy` STRING, `Film-Noir` STRING, `Horror` STRING, `Musical` STRING, `Mystery` STRING, `Romance` STRING, `Sci-Fi` STRING, `Thriller` STRING, `War` STRING, `Western` STRING\""
   ]
  },
  {
   "cell_type": "code",
   "execution_count": 6,
   "id": "02857825-06e5-4701-8104-c4770c689d3b",
   "metadata": {},
   "outputs": [],
   "source": [
    "# define schema for our data (u.user)\n",
    "schema_user = StructType([\n",
    "   StructField(\"UserID\", IntegerType(), False),\n",
    "   StructField(\"age\", IntegerType(), False),\n",
    "   StructField(\"gender\", StringType(), False),\n",
    "   StructField(\"occupation\", StringType(), False),\n",
    "   StructField(\"zip_code\", IntegerType(), False)])\n",
    "\n",
    "#user id | age | gender | occupation | zip code"
   ]
  },
  {
   "cell_type": "code",
   "execution_count": 7,
   "id": "643a71ca-334d-4b77-b0d2-8b37672bfcfe",
   "metadata": {
    "tags": []
   },
   "outputs": [
    {
     "name": "stdout",
     "output_type": "stream",
     "text": [
      "+------+---+------+----------+--------+\n",
      "|UserID|age|gender|occupation|zip_code|\n",
      "+------+---+------+----------+--------+\n",
      "|     1| 24|     M|technician|   85711|\n",
      "|     2| 53|     F|     other|   94043|\n",
      "|     3| 23|     M|    writer|   32067|\n",
      "|     4| 24|     M|technician|   43537|\n",
      "|     5| 33|     F|     other|   15213|\n",
      "+------+---+------+----------+--------+\n",
      "only showing top 5 rows\n",
      "\n"
     ]
    }
   ],
   "source": [
    "users_df = spark.read.option(\"sep\", \"|\").option(\"multiLine\", \"true\")\\\n",
    "                     .option(\"ignoreTrailingWhiteSpace\", \"true\").csv(users_file, schema=schema_user)\n",
    "users_df.show(5)"
   ]
  },
  {
   "cell_type": "code",
   "execution_count": 8,
   "id": "50e2ad7d-28e3-4bfb-bcd0-1c9edc44458d",
   "metadata": {},
   "outputs": [
    {
     "name": "stdout",
     "output_type": "stream",
     "text": [
      "+------+-------+------+----------------+\n",
      "|UserID|MovieID|Rating|Rating_Timestamp|\n",
      "+------+-------+------+----------------+\n",
      "|   196|    242|     3|       881250949|\n",
      "|   186|    302|     3|       891717742|\n",
      "|    22|    377|     1|       878887116|\n",
      "|   244|     51|     2|       880606923|\n",
      "|   166|    346|     1|       886397596|\n",
      "|   298|    474|     4|       884182806|\n",
      "|   115|    265|     2|       881171488|\n",
      "|   253|    465|     5|       891628467|\n",
      "|   305|    451|     3|       886324817|\n",
      "|     6|     86|     3|       883603013|\n",
      "+------+-------+------+----------------+\n",
      "only showing top 10 rows\n",
      "\n"
     ]
    }
   ],
   "source": [
    "#ratings datafiles to dataframes\n",
    "ratings_df = (spark.read.format(\"csv\")\n",
    "    .option(\"sep\", \"\\t\")\n",
    "    .option(\"inferschema\", \"true\")\n",
    "    .option(\"samplingRatio\", 0.1)  # Adjust the sampling ratio\n",
    "    .load(ratings_file)\n",
    "    .toDF(\"UserID\", \"MovieID\", \"Rating\", \"Rating_Timestamp\"))\n",
    "\n",
    "ratings_df.show(k)"
   ]
  },
  {
   "cell_type": "code",
   "execution_count": null,
   "id": "e35a3f6a-4f2e-464c-b10b-2e275ced91dc",
   "metadata": {
    "tags": []
   },
   "outputs": [],
   "source": [
    "\n",
    "\"\"\"movies_df = spark.read.option(\"sep\",\"|\").option(\"multiLine\", \"true\").option(\"ignoreTrailingWhiteSpace\", \"true\")\\\n",
    "             .csv(movies_file, header=False, schema=schema_item)\n",
    "movies_df=movies_df.select(\"MovieID\",\"Titles\",\"release_date\")\n",
    "movies_df.show(8)\"\"\""
   ]
  },
  {
   "cell_type": "markdown",
   "id": "c431972d-2fb8-485c-a5a4-1481a2f2af39",
   "metadata": {},
   "source": [
    "# Movies and Ratings"
   ]
  },
  {
   "cell_type": "code",
   "execution_count": 9,
   "id": "79fcad96-f283-47a3-82e3-75c89072e5b2",
   "metadata": {},
   "outputs": [
    {
     "name": "stdout",
     "output_type": "stream",
     "text": [
      "+-------+--------------------+------+------+----------------+------+-----+-------+\n",
      "|MovieID|              Titles|UserID|Rating|Rating_Timestamp|Action|Drama|Fantasy|\n",
      "+-------+--------------------+------+------+----------------+------+-----+-------+\n",
      "|    160|Glengarry Glen Ro...|     1|     4|       875072547|     0|    1|      0|\n",
      "|    189|Grand Day Out, A ...|     1|     3|       888732928|     0|    0|      0|\n",
      "|     61|Three Colors: Whi...|     1|     4|       878542420|     0|    1|      0|\n",
      "+-------+--------------------+------+------+----------------+------+-----+-------+\n",
      "only showing top 3 rows\n",
      "\n"
     ]
    }
   ],
   "source": [
    "#INNER JOIN movies_df & ratings_df\n",
    "moviesNratings = movies_df.join(ratings_df,movies_df.MovieID == ratings_df.MovieID, 'inner').select(\n",
    "        movies_df.MovieID,movies_df.Titles,ratings_df.UserID,ratings_df.Rating, ratings_df.Rating_Timestamp,movies_df.Action,movies_df.Drama,movies_df.Fantasy)\n",
    "\n",
    "moviesNratings.sort(col(\"UserID\")).show(3)"
   ]
  },
  {
   "cell_type": "markdown",
   "id": "5256648c-15e7-4240-be07-b5d93ce06134",
   "metadata": {},
   "source": [
    "<a id=\"section_1\"></a>\n",
    "## k-Most popular movies of all time\n",
    "### Finding k most popular movies of all times assuming k=10"
   ]
  },
  {
   "cell_type": "code",
   "execution_count": 10,
   "id": "74dde964-a8a2-426a-b482-a778cdfcc3a9",
   "metadata": {},
   "outputs": [
    {
     "name": "stdout",
     "output_type": "stream",
     "text": [
      "+-------+--------------------+-----------+\n",
      "|MovieID|              Titles|avg(Rating)|\n",
      "+-------+--------------------+-----------+\n",
      "|   1293|     Star Kid (1997)|        5.0|\n",
      "|   1599|Someone Else's Am...|        5.0|\n",
      "|   1536|Aiqing wansui (1994)|        5.0|\n",
      "|   1653|Entertaining Ange...|        5.0|\n",
      "|   1500|Santa with Muscle...|        5.0|\n",
      "|   1467|Saint of Fort Was...|        5.0|\n",
      "|   1189|  Prefontaine (1997)|        5.0|\n",
      "|    814|Great Day in Harl...|        5.0|\n",
      "|   1201|Marlene Dietrich:...|        5.0|\n",
      "|   1122|They Made Me a Cr...|        5.0|\n",
      "+-------+--------------------+-----------+\n",
      "only showing top 10 rows\n",
      "\n"
     ]
    }
   ],
   "source": [
    "most_pop_movies = moviesNratings.groupBy(\"MovieID\",\"Titles\").avg(\"Rating\").orderBy(\"avg(Rating)\", ascending=False)\n",
    "\n",
    "#writing to file\n",
    "most_pop_movies.limit(k).write.csv(output_csv_path, header=True, mode=\"append\")\n",
    "most_pop_movies.show(k)"
   ]
  },
  {
   "cell_type": "markdown",
   "id": "2cc19043-b393-40e8-8ecd-529095140fcd",
   "metadata": {},
   "source": [
    "<a id=\"section_2\"></a>\n",
    "## k-Most popular movies for a particular year\n",
    "### Finding k most popular movies of all times assuming k=10, year = 1998\n",
    "#### Considering rating timestamp, not the movie realease time"
   ]
  },
  {
   "cell_type": "code",
   "execution_count": 11,
   "id": "e5c94b82-986a-4698-983a-185d9c77f5bf",
   "metadata": {},
   "outputs": [],
   "source": [
    "#INNER JOIN movies_df & ratings_df\n",
    "#moviesNratings = movies_df.join(ratings_df,movies_df.MovieID == ratings_df.MovieID, 'inner').select(\n",
    "#        movies_df.MovieID,movies_df.Titles,ratings_df.UserID,ratings_df.Rating, ratings_df.Rating_Timestamp)\n",
    "#\n",
    "#moviesNratings.sort(col(\"UserID\")).show(3)"
   ]
  },
  {
   "cell_type": "code",
   "execution_count": 12,
   "id": "d35764f5-171e-404b-9c70-3a804c88ee11",
   "metadata": {},
   "outputs": [
    {
     "name": "stdout",
     "output_type": "stream",
     "text": [
      "+-------+--------------------+------+------+----+\n",
      "|MovieID|              Titles|UserID|Rating|Year|\n",
      "+-------+--------------------+------+------+----+\n",
      "|    302|L.A. Confidential...|   186|     3|1998|\n",
      "|    346| Jackie Brown (1997)|   166|     1|1998|\n",
      "|    474|Dr. Strangelove o...|   298|     4|1998|\n",
      "+-------+--------------------+------+------+----+\n",
      "only showing top 3 rows\n",
      "\n"
     ]
    }
   ],
   "source": [
    "moviesNratings_withYear = moviesNratings.withColumn(\"Year\", year(from_unixtime(\"Rating_Timestamp\")))\\\n",
    "                               .select(\"MovieID\",\"Titles\",\"UserID\",\"Rating\",\"Year\")\\\n",
    "                               .where(col(\"Year\") == 1998)\n",
    "moviesNratings_withYear.show(3)"
   ]
  },
  {
   "cell_type": "code",
   "execution_count": 13,
   "id": "79f8c692-1f8d-48b2-b242-da7202f9ccf3",
   "metadata": {},
   "outputs": [
    {
     "name": "stdout",
     "output_type": "stream",
     "text": [
      "+-------+--------------------+-----------+\n",
      "|MovieID|              Titles|avg(Rating)|\n",
      "+-------+--------------------+-----------+\n",
      "|   1293|     Star Kid (1997)|        5.0|\n",
      "|   1368|Mina Tannenbaum (...|        5.0|\n",
      "|   1472|Visitors, The (Vi...|        5.0|\n",
      "|   1653|Entertaining Ange...|        5.0|\n",
      "|   1367|        Faust (1994)|        5.0|\n",
      "|   1189|  Prefontaine (1997)|        5.0|\n",
      "|    814|Great Day in Harl...|        5.0|\n",
      "|   1358|The Deadly Cure (...|        5.0|\n",
      "|   1201|Marlene Dietrich:...|        5.0|\n",
      "|    884|Year of the Horse...|       4.75|\n",
      "+-------+--------------------+-----------+\n",
      "only showing top 10 rows\n",
      "\n"
     ]
    }
   ],
   "source": [
    "top_10_pop_movies_of_a_year = moviesNratings_withYear.select(\"MovieID\",\"Titles\",\"Rating\",\"Year\")\\\n",
    "                               .groupBy(\"MovieID\",\"Titles\").avg(\"Rating\").orderBy(\"avg(Rating)\",ascending=False)\n",
    "#writing to file\n",
    "top_10_pop_movies_of_a_year.limit(k).write.csv(output_csv_path, header=True, mode=\"append\")\n",
    "top_10_pop_movies_of_a_year.show(k)"
   ]
  },
  {
   "cell_type": "markdown",
   "id": "2ee3d299-e473-414e-9895-70d7faa675fa",
   "metadata": {},
   "source": [
    "<a id=\"section_3\"></a>\n",
    "## k-Most popular movies for a particular season\n",
    "### Defining the season as (1: Winter, 2: Spring, 3: Summer, 4: Fall) \n",
    "### Assuming k=10, target_season = 3 (summer: month 7,8,9)\n",
    "#### Considering rating timestamp, not the movie realease time"
   ]
  },
  {
   "cell_type": "code",
   "execution_count": 14,
   "id": "a6189780-1a67-420a-be8a-c60df29d9482",
   "metadata": {},
   "outputs": [
    {
     "name": "stdout",
     "output_type": "stream",
     "text": [
      "+-------+-----------------+------+------+-----+\n",
      "|MovieID|           Titles|UserID|Rating|Month|\n",
      "+-------+-----------------+------+------+-----+\n",
      "|   1042|Just Cause (1995)|   291|     4|    9|\n",
      "|    118|   Twister (1996)|   291|     2|    9|\n",
      "|    796|Speechless (1994)|   276|     1|    9|\n",
      "+-------+-----------------+------+------+-----+\n",
      "only showing top 3 rows\n",
      "\n"
     ]
    }
   ],
   "source": [
    "target_season = 3\n",
    "moviesNratings_withMonth = moviesNratings.withColumn(\"Month\", month(from_unixtime(\"Rating_Timestamp\")))\\\n",
    "                               .select(\"MovieID\",\"Titles\",\"UserID\",\"Rating\",\"Month\")\\\n",
    "                               .where((col(\"Month\") >=(target_season * 3 - 2))&(col(\"Month\")<=(target_season * 3)))\n",
    "\n",
    "moviesNratings_withMonth.show(3)"
   ]
  },
  {
   "cell_type": "code",
   "execution_count": 15,
   "id": "ecc335c3-24de-4c4f-a673-af441328f31e",
   "metadata": {},
   "outputs": [
    {
     "name": "stdout",
     "output_type": "stream",
     "text": [
      "+-------+--------------------+-----------+\n",
      "|MovieID|              Titles|avg(Rating)|\n",
      "+-------+--------------------+-----------+\n",
      "|    487|Roman Holiday (1953)|        5.0|\n",
      "|   1153|     Backbeat (1993)|        5.0|\n",
      "|    139|Love Bug, The (1969)|        5.0|\n",
      "|    459|Cry, the Beloved ...|        5.0|\n",
      "|   1597|Romper Stomper (1...|        5.0|\n",
      "|    853|    Braindead (1992)|        5.0|\n",
      "|    149|         Jude (1996)|        5.0|\n",
      "|   1368|Mina Tannenbaum (...|        5.0|\n",
      "|    534|    Traveller (1997)|        5.0|\n",
      "|   1302|Late Bloomers (1996)|        5.0|\n",
      "+-------+--------------------+-----------+\n",
      "only showing top 10 rows\n",
      "\n"
     ]
    }
   ],
   "source": [
    "top_10_pop_movies_of_summer = moviesNratings_withMonth.select(\"MovieID\",\"Titles\",\"Rating\",\"Month\")\\\n",
    "                                  .groupBy(\"MovieID\",\"Titles\").avg(\"Rating\").orderBy(\"avg(Rating)\",ascending=False)\n",
    "#writing to file\n",
    "top_10_pop_movies_of_summer.limit(k).write.csv(output_csv_path, header=True, mode=\"append\")\n",
    "top_10_pop_movies_of_summer.show(k)"
   ]
  },
  {
   "cell_type": "markdown",
   "id": "96cf88d7-486c-4485-9774-9b886c78b767",
   "metadata": {},
   "source": [
    "<a id=\"section_4\"></a>\n",
    "## Top k movies with the most ratings (presumably most popular) that have the lowest ratings\n",
    "#### Most rating counts, but less popular/lowest rating avg"
   ]
  },
  {
   "cell_type": "code",
   "execution_count": 16,
   "id": "ed18b290-f38f-46a3-9485-1b367953cf3a",
   "metadata": {},
   "outputs": [
    {
     "name": "stdout",
     "output_type": "stream",
     "text": [
      "+-------+--------------------+-----+\n",
      "|MovieID|              Titles|count|\n",
      "+-------+--------------------+-----+\n",
      "|    171| Delicatessen (1991)|   65|\n",
      "|    279|Once Upon a Time....|   28|\n",
      "|    873|Picture Perfect (...|   81|\n",
      "|    660|Fried Green Tomat...|  153|\n",
      "|    708|Sex, Lies, and Vi...|  101|\n",
      "|    170|Cinema Paradiso (...|  121|\n",
      "|    394|Radioland Murders...|   12|\n",
      "|   1512|World of Apu, The...|    6|\n",
      "|    648|Quiet Man, The (1...|   67|\n",
      "|    586|Terminal Velocity...|   34|\n",
      "+-------+--------------------+-----+\n",
      "only showing top 10 rows\n",
      "\n"
     ]
    }
   ],
   "source": [
    "# count of the ratings\n",
    "moviesNratings_with_rating_counts = moviesNratings.groupBy(\"MovieID\",\"Titles\").count()                                                                 \n",
    "moviesNratings_with_rating_counts.show(10)"
   ]
  },
  {
   "cell_type": "code",
   "execution_count": 17,
   "id": "c7b0d7c8-0e4f-46af-a05e-6832a2e62a2f",
   "metadata": {},
   "outputs": [
    {
     "name": "stdout",
     "output_type": "stream",
     "text": [
      "+-------+--------------------+----------+\n",
      "|MovieID|              Titles|avg_rating|\n",
      "+-------+--------------------+----------+\n",
      "|    171| Delicatessen (1991)|      3.88|\n",
      "|    279|Once Upon a Time....|      3.29|\n",
      "|    873|Picture Perfect (...|      2.96|\n",
      "|    660|Fried Green Tomat...|      3.76|\n",
      "|    708|Sex, Lies, and Vi...|      3.48|\n",
      "|    170|Cinema Paradiso (...|      4.17|\n",
      "|    394|Radioland Murders...|      3.33|\n",
      "|   1512|World of Apu, The...|       4.0|\n",
      "|    648|Quiet Man, The (1...|      4.03|\n",
      "|    586|Terminal Velocity...|      2.68|\n",
      "+-------+--------------------+----------+\n",
      "only showing top 10 rows\n",
      "\n"
     ]
    }
   ],
   "source": [
    "# average of the ratings\n",
    "moviesNratings_with_avg_rating = moviesNratings.groupBy(\"MovieID\",\"Titles\").avg(\"Rating\")\n",
    "moviesNratings_with_avg_rating = moviesNratings_with_avg_rating.select(\"MovieID\",\"Titles\",round(\"avg(Rating)\",2).alias(\"avg_rating\"))\n",
    "moviesNratings_with_avg_rating.show(k)"
   ]
  },
  {
   "cell_type": "code",
   "execution_count": 18,
   "id": "3b9278de-8d74-4f6c-98be-373399ff6fd1",
   "metadata": {},
   "outputs": [
    {
     "name": "stdout",
     "output_type": "stream",
     "text": [
      "+-------+--------------------+-----+----------+\n",
      "|MovieID|              Titles|count|avg_rating|\n",
      "+-------+--------------------+-----+----------+\n",
      "|     50|    Star Wars (1977)|  583|      4.36|\n",
      "|    258|      Contact (1997)|  509|       3.8|\n",
      "|    100|        Fargo (1996)|  508|      4.16|\n",
      "|    181|Return of the Jed...|  507|      4.01|\n",
      "|    294|    Liar Liar (1997)|  485|      3.16|\n",
      "|    286|English Patient, ...|  481|      3.66|\n",
      "|    288|       Scream (1996)|  478|      3.44|\n",
      "|      1|    Toy Story (1995)|  452|      3.88|\n",
      "|    300|Air Force One (1997)|  431|      3.63|\n",
      "|    121|Independence Day ...|  429|      3.44|\n",
      "+-------+--------------------+-----+----------+\n",
      "only showing top 10 rows\n",
      "\n"
     ]
    }
   ],
   "source": [
    "# Joining movie rating-count and average-rating\n",
    "moviesNratings_rating_counts_with_avgRatings = moviesNratings_with_rating_counts.join(moviesNratings_with_avg_rating, \n",
    "                    moviesNratings_with_rating_counts.MovieID == moviesNratings_with_avg_rating.MovieID)\\\n",
    "                     .orderBy(\"count\", ascending=False)\\\n",
    "                     .select(moviesNratings_with_rating_counts.MovieID,\n",
    "                             moviesNratings_with_rating_counts.Titles,\"count\",\"avg_rating\")\n",
    "moviesNratings_rating_counts_with_avgRatings.show(k)"
   ]
  },
  {
   "cell_type": "code",
   "execution_count": 19,
   "id": "f52790eb-8883-4833-ae55-4825ce810ddb",
   "metadata": {},
   "outputs": [
    {
     "name": "stdout",
     "output_type": "stream",
     "text": [
      "+-------+--------------------+-----+----------+\n",
      "|MovieID|              Titles|count|avg_rating|\n",
      "+-------+--------------------+-----+----------+\n",
      "|     50|    Star Wars (1977)|  583|      4.36|\n",
      "|    258|      Contact (1997)|  509|       3.8|\n",
      "|    100|        Fargo (1996)|  508|      4.16|\n",
      "|    181|Return of the Jed...|  507|      4.01|\n",
      "|    294|    Liar Liar (1997)|  485|      3.16|\n",
      "|    286|English Patient, ...|  481|      3.66|\n",
      "|    288|       Scream (1996)|  478|      3.44|\n",
      "|      1|    Toy Story (1995)|  452|      3.88|\n",
      "|    300|Air Force One (1997)|  431|      3.63|\n",
      "|    121|Independence Day ...|  429|      3.44|\n",
      "+-------+--------------------+-----+----------+\n",
      "only showing top 10 rows\n",
      "\n"
     ]
    }
   ],
   "source": [
    "#Calculating the result\n",
    "movies_hcount_lrating = moviesNratings_rating_counts_with_avgRatings.orderBy(['count', 'avg_rating'], ascending=[False, True])\n",
    "\n",
    "#writing to file\n",
    "movies_hcount_lrating.limit(k).write.csv(output_csv_path, header=True, mode=\"append\")\n",
    "movies_hcount_lrating.show(k)"
   ]
  },
  {
   "cell_type": "markdown",
   "id": "548dd81e-a686-475a-8ac5-6d552f116555",
   "metadata": {},
   "source": [
    "# Movies, Ratings, Users"
   ]
  },
  {
   "cell_type": "code",
   "execution_count": 20,
   "id": "b1c7265d-4d74-43f6-883b-7d955fd2508b",
   "metadata": {},
   "outputs": [
    {
     "name": "stdout",
     "output_type": "stream",
     "text": [
      "+-------+--------------------+------+----------------+------+---+------+----------+\n",
      "|MovieID|              Titles|Rating|Rating_Timestamp|UserID|age|gender|occupation|\n",
      "+-------+--------------------+------+----------------+------+---+------+----------+\n",
      "|    160|Glengarry Glen Ro...|     4|       875072547|     1| 24|     M|technician|\n",
      "|    189|Grand Day Out, A ...|     3|       888732928|     1| 24|     M|technician|\n",
      "|     61|Three Colors: Whi...|     4|       878542420|     1| 24|     M|technician|\n",
      "+-------+--------------------+------+----------------+------+---+------+----------+\n",
      "only showing top 3 rows\n",
      "\n"
     ]
    }
   ],
   "source": [
    "#INNER JOIN movies_df & ratings_df & users_df\n",
    "\n",
    "moviesNratingsNusers = moviesNratings.join(users_df,moviesNratings.UserID == users_df.UserID,'inner').select(\n",
    "        moviesNratings.MovieID,moviesNratings.Titles,moviesNratings.Rating, \n",
    "        moviesNratings.Rating_Timestamp,moviesNratings.UserID,users_df.age,users_df.gender,users_df.occupation)\n",
    "moviesNratingsNusers.sort(col(\"UserID\")).show(3)"
   ]
  },
  {
   "cell_type": "markdown",
   "id": "5b072dad-dcc7-42a0-9462-0240662c012b",
   "metadata": {},
   "source": [
    "<a id=\"section_5\"></a>\n",
    "## k most popular movies for a particular age\n",
    "### Finding most rated 10 movies by a particular age 25 yrs"
   ]
  },
  {
   "cell_type": "code",
   "execution_count": 21,
   "id": "12941ac7-d610-4e3b-ab7f-485c091d258d",
   "metadata": {},
   "outputs": [
    {
     "name": "stdout",
     "output_type": "stream",
     "text": [
      "+-------+--------------------+------+------+---+\n",
      "|MovieID|              Titles|Rating|UserID|age|\n",
      "+-------+--------------------+------+------+---+\n",
      "|    377| Heavyweights (1994)|     1|    22| 25|\n",
      "|    241|Last of the Mohic...|     5|   249| 25|\n",
      "|     25|Birdcage, The (1996)|     4|   162| 25|\n",
      "+-------+--------------------+------+------+---+\n",
      "only showing top 3 rows\n",
      "\n"
     ]
    }
   ],
   "source": [
    "target_age = 25\n",
    "top_10_pop_movies_by_age = moviesNratingsNusers.select(\"MovieID\",\"Titles\",\"Rating\",\"UserID\",\"age\")\\\n",
    "                                       .where(col(\"age\") == target_age)\n",
    "top_10_pop_movies_by_age.show(3)"
   ]
  },
  {
   "cell_type": "code",
   "execution_count": 22,
   "id": "5729c9a5-c59e-4e71-8168-a159d735f369",
   "metadata": {},
   "outputs": [
    {
     "name": "stdout",
     "output_type": "stream",
     "text": [
      "+-------+--------------------+-----------+\n",
      "|MovieID|              Titles|avg(Rating)|\n",
      "+-------+--------------------+-----------+\n",
      "|   1368|Mina Tannenbaum (...|        5.0|\n",
      "|    285|Secrets & Lies (1...|        5.0|\n",
      "|    517|    Manhattan (1979)|        5.0|\n",
      "|    657|Manchurian Candid...|        5.0|\n",
      "|    251|Shall We Dance? (...|        5.0|\n",
      "|    207|Cyrano de Bergera...|        5.0|\n",
      "|    365|       Powder (1995)|        5.0|\n",
      "|    521|Deer Hunter, The ...|        5.0|\n",
      "|   1154|   Alphaville (1965)|        5.0|\n",
      "|    497|Bringing Up Baby ...|        5.0|\n",
      "+-------+--------------------+-----------+\n",
      "only showing top 10 rows\n",
      "\n"
     ]
    }
   ],
   "source": [
    "top_10_pop_movies_by_age = top_10_pop_movies_by_age.select(\"MovieID\",\"Titles\",\"Rating\",\"age\")\\\n",
    "                               .groupBy(\"MovieID\",\"Titles\").avg(\"Rating\").orderBy(\"avg(Rating)\",ascending=False)\n",
    "\n",
    "#writing to file\n",
    "movies_hcount_lrating.limit(k).write.csv(output_csv_path, header=True, mode=\"append\")\n",
    "top_10_pop_movies_by_age.show(k)"
   ]
  },
  {
   "cell_type": "markdown",
   "id": "65d22ec7-e216-49ff-b2d5-c81064dcbb58",
   "metadata": {},
   "source": [
    "<a id=\"section_6\"></a>\n",
    "## For a particular genre finding k-most rated movies\n",
    "### selecting genre = Drama, k = 10"
   ]
  },
  {
   "cell_type": "code",
   "execution_count": 23,
   "id": "1df14b8a-42d3-441f-9ca5-8a8dd10f176a",
   "metadata": {},
   "outputs": [
    {
     "name": "stdout",
     "output_type": "stream",
     "text": [
      "+-------+--------------------+------+-----+\n",
      "|MovieID|              Titles|Rating|Drama|\n",
      "+-------+--------------------+------+-----+\n",
      "|     51|Legends of the Fa...|     2|    1|\n",
      "|    346| Jackie Brown (1997)|     1|    1|\n",
      "|     86|Remains of the Da...|     3|    1|\n",
      "+-------+--------------------+------+-----+\n",
      "only showing top 3 rows\n",
      "\n"
     ]
    }
   ],
   "source": [
    "target_genre = 'Drama'\n",
    "top_10_pop_movies_by_genre = moviesNratings.select(\"MovieID\",\"Titles\",\"Rating\",\"Drama\")\\\n",
    "                                       .where(col(target_genre) == 1)\n",
    "top_10_pop_movies_by_genre.show(3)"
   ]
  },
  {
   "cell_type": "code",
   "execution_count": 24,
   "id": "4a1e3167-7a0e-4117-952d-62579bc06b28",
   "metadata": {},
   "outputs": [
    {
     "name": "stdout",
     "output_type": "stream",
     "text": [
      "+-------+--------------------+-----------------+\n",
      "|MovieID|              Titles|      avg(Rating)|\n",
      "+-------+--------------------+-----------------+\n",
      "|   1536|Aiqing wansui (1994)|              5.0|\n",
      "|   1599|Someone Else's Am...|              5.0|\n",
      "|   1653|Entertaining Ange...|              5.0|\n",
      "|   1467|Saint of Fort Was...|              5.0|\n",
      "|   1189|  Prefontaine (1997)|              5.0|\n",
      "|   1122|They Made Me a Cr...|              5.0|\n",
      "|   1449|Pather Panchali (...|            4.625|\n",
      "|   1642|Some Mother's Son...|              4.5|\n",
      "|   1398|         Anna (1996)|              4.5|\n",
      "|    318|Schindler's List ...|4.466442953020135|\n",
      "+-------+--------------------+-----------------+\n",
      "only showing top 10 rows\n",
      "\n"
     ]
    }
   ],
   "source": [
    "top_10_pop_movies_by_genre = top_10_pop_movies_by_genre.select(\"MovieID\",\"Titles\",\"Rating\")\\\n",
    "                               .groupBy(\"MovieID\",\"Titles\").avg(\"Rating\").orderBy(\"avg(Rating)\",ascending=False)\n",
    "\n",
    "#writing to file\n",
    "top_10_pop_movies_by_genre.limit(k).write.csv(output_csv_path, header=True, mode=\"append\")\n",
    "top_10_pop_movies_by_genre.show(k)"
   ]
  },
  {
   "cell_type": "markdown",
   "id": "d084e9af-44de-4848-9ba0-f1df19d282a6",
   "metadata": {},
   "source": [
    "<a id=\"section_7\"></a>\n",
    "## Finding the average rating by age group"
   ]
  },
  {
   "cell_type": "code",
   "execution_count": 25,
   "id": "1e3440aa-9366-4962-9fcb-73cfedcf64fe",
   "metadata": {},
   "outputs": [
    {
     "name": "stdout",
     "output_type": "stream",
     "text": [
      "+---+----------+\n",
      "|age|avg_rating|\n",
      "+---+----------+\n",
      "| 58|      3.99|\n",
      "| 73|      3.98|\n",
      "| 59|      3.84|\n",
      "| 53|      3.83|\n",
      "| 61|      3.79|\n",
      "|  7|      3.77|\n",
      "| 46|      3.77|\n",
      "| 51|      3.73|\n",
      "| 45|      3.73|\n",
      "| 63|      3.73|\n",
      "+---+----------+\n",
      "only showing top 10 rows\n",
      "\n"
     ]
    }
   ],
   "source": [
    "#moviesNratingsNusers\n",
    "avg_rating_by_age_group = moviesNratingsNusers.select(\"MovieID\",\"Titles\",\"Rating\",\"UserID\",\"age\")\\\n",
    "                               .groupBy(\"age\").avg(\"Rating\").orderBy(\"avg(Rating)\",ascending=False)\n",
    "avg_rating_by_age_group = avg_rating_by_age_group.select(\"age\",round(\"avg(Rating)\",2).alias(\"avg_rating\"))\n",
    "\n",
    "#writing to file\n",
    "avg_rating_by_age_group.limit(k).write.csv(output_csv_path, header=True, mode=\"append\")\n",
    "avg_rating_by_age_group.show(k)"
   ]
  },
  {
   "cell_type": "code",
   "execution_count": 26,
   "id": "ead6a003-d54e-4425-8033-74dc125b6cf9",
   "metadata": {},
   "outputs": [],
   "source": [
    "#stopping spark\n",
    "spark.stop()"
   ]
  },
  {
   "cell_type": "code",
   "execution_count": null,
   "id": "8df6be23-807c-4bae-9f4c-fa79a50fca5f",
   "metadata": {},
   "outputs": [],
   "source": []
  }
 ],
 "metadata": {
  "kernelspec": {
   "display_name": "Python 3",
   "language": "python",
   "name": "python3"
  },
  "language_info": {
   "codemirror_mode": {
    "name": "ipython",
    "version": 3
   },
   "file_extension": ".py",
   "mimetype": "text/x-python",
   "name": "python",
   "nbconvert_exporter": "python",
   "pygments_lexer": "ipython3",
   "version": "3.8.8"
  }
 },
 "nbformat": 4,
 "nbformat_minor": 5
}
