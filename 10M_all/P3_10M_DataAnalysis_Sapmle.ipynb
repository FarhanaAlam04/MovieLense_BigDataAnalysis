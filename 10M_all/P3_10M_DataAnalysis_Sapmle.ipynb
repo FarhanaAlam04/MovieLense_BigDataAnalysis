{
 "cells": [
  {
   "cell_type": "markdown",
   "id": "22fda675-53f1-40e1-a0d2-b13780239431",
   "metadata": {},
   "source": [
    "# Project3_10M_MovieLens Data Analysis"
   ]
  },
  {
   "cell_type": "code",
   "execution_count": 30,
   "id": "66b7f412-1fb6-4bc3-984d-97189a94f60b",
   "metadata": {},
   "outputs": [],
   "source": [
    "from pyspark.sql.types import *\n",
    "from pyspark.sql import SparkSession\n",
    "from pyspark.sql.functions import *\n",
    "import pyspark.sql.functions as func\n",
    "import sys\n",
    "k = 10"
   ]
  },
  {
   "cell_type": "code",
   "execution_count": 31,
   "id": "1a37fbb9-bf0f-4a28-83a5-970a83e02632",
   "metadata": {},
   "outputs": [],
   "source": [
    "# Creating a Spark session\n",
    "spark = (SparkSession\n",
    "        .builder\n",
    "        .appName(\"Spark Project3 10M Movie Data Analysis\")\n",
    "        .getOrCreate())"
   ]
  },
  {
   "cell_type": "code",
   "execution_count": 66,
   "id": "e6fbb1e9-5a89-4f4b-acf1-2dc4cc54ee81",
   "metadata": {},
   "outputs": [],
   "source": [
    "# Loading DataFiles with argv \n",
    "#movies_file = sys.argv[1]\n",
    "#ratings_file = sys.argv[2]\n",
    "#tags_file = sys.argv[3]\n",
    "\n",
    "# Output CSV file path\n",
    "#output_csv_path = sys.argv[4]"
   ]
  },
  {
   "cell_type": "code",
   "execution_count": 35,
   "id": "7e9e4e02-a580-4656-ad62-8be05c69a177",
   "metadata": {},
   "outputs": [],
   "source": [
    "# Loading the samp_with_tag DataFiles\n",
    "movies_file = \"Documents/CS535/Project3/p3-cs535-team-07/sample_with_tag/movie.csv\"\n",
    "ratings_file = \"Documents/CS535/Project3/p3-cs535-team-07/sample_with_tag/ratings.csv\"\n",
    "tags_file = \"Documents/CS535/Project3/p3-cs535-team-07/sample_with_tag/tags.csv\"\n",
    "\n",
    "# Output CSV file path\n",
    "output_csv_path = \"Documents/CS535/Project3/p3-cs535-team-07/sample_with_tag_output\""
   ]
  },
  {
   "cell_type": "code",
   "execution_count": 39,
   "id": "bdd45210-4f1f-4c7b-a6df-11081056d0be",
   "metadata": {},
   "outputs": [
    {
     "name": "stdout",
     "output_type": "stream",
     "text": [
      "+------+-------+------+----------------+\n",
      "|UserID|MovieID|Rating|Rating_Timestamp|\n",
      "+------+-------+------+----------------+\n",
      "|     1|      1|     5|       978824268|\n",
      "|     6|      1|     4|       978237008|\n",
      "|     8|      1|     4|       978233496|\n",
      "|     9|      1|     5|       978225952|\n",
      "|    10|      1|     5|       978226474|\n",
      "|    18|      1|     4|       978154768|\n",
      "|    19|      1|     5|       978555994|\n",
      "|    21|      1|     3|       978139347|\n",
      "|    23|      1|     4|       978463614|\n",
      "|    26|      1|     3|       978130703|\n",
      "+------+-------+------+----------------+\n",
      "only showing top 10 rows\n",
      "\n"
     ]
    }
   ],
   "source": [
    "#ratings datafiles to dataframes\n",
    "ratings_df = (spark.read.format(\"csv\")\n",
    "    .option(\"sep\", \",\")\n",
    "    .option(\"inferschema\", \"true\")\n",
    "    .option(\"header\", \"true\")\n",
    "    .option(\"samplingRatio\", 0.1)  # Adjust the sampling ratio\n",
    "    .load(ratings_file)\n",
    "    .toDF(\"UserID\", \"MovieID\", \"Rating\", \"Rating_Timestamp\"))\n",
    "\n",
    "ratings_df.show(k)"
   ]
  },
  {
   "cell_type": "code",
   "execution_count": 40,
   "id": "d7be4d3f-187e-481b-ac29-7907eab28a6f",
   "metadata": {},
   "outputs": [
    {
     "name": "stdout",
     "output_type": "stream",
     "text": [
      "+------+-------+---------+-------------+\n",
      "|UserID|MovieID|      Tag|Tag_Timestamp|\n",
      "+------+-------+---------+-------------+\n",
      "|     1|      1|Excellent|    978824268|\n",
      "|     6|      1|Excellent|    978237008|\n",
      "|     8|      1|Excellent|    978233496|\n",
      "|     9|      1|     Best|    978225952|\n",
      "|    10|      1|     Best|    978226474|\n",
      "|    18|      1|Excellent|    978154768|\n",
      "|    19|      1|Excellent|    978555994|\n",
      "|    21|      1|Excellent|    978139347|\n",
      "|    23|      1|Excellent|    978463614|\n",
      "|    26|      1|Excellent|    978130703|\n",
      "+------+-------+---------+-------------+\n",
      "only showing top 10 rows\n",
      "\n"
     ]
    }
   ],
   "source": [
    "#tags datafiles to dataframes\n",
    "tags_df = (spark.read.format(\"csv\")\n",
    "    .option(\"sep\", \",\")\n",
    "    .option(\"inferschema\", \"true\")\n",
    "    .option(\"header\", \"true\")\n",
    "    .option(\"samplingRatio\", 0.1)  # Adjust the sampling ratio\n",
    "    .load(tags_file)\n",
    "    .toDF(\"UserID\", \"MovieID\", \"Tag\", \"Tag_Timestamp\"))\n",
    "\n",
    "tags_df.show(k)"
   ]
  },
  {
   "cell_type": "code",
   "execution_count": 42,
   "id": "b444c5cf-27ae-4934-b767-c73d2a135f5f",
   "metadata": {},
   "outputs": [
    {
     "name": "stdout",
     "output_type": "stream",
     "text": [
      "+-------+--------------------+--------------------+\n",
      "|MovieID|              Titles|              Genres|\n",
      "+-------+--------------------+--------------------+\n",
      "|      1|    Toy Story (1995)|Animation|Childre...|\n",
      "|      2|      Jumanji (1995)|Adventure|Childre...|\n",
      "|      3|Grumpier Old Men ...|      Comedy|Romance|\n",
      "|      4|Waiting to Exhale...|        Comedy|Drama|\n",
      "|      5|Father of the Bri...|              Comedy|\n",
      "|      6|         Heat (1995)|Action|Crime|Thri...|\n",
      "|      7|      Sabrina (1995)|      Comedy|Romance|\n",
      "|      8| Tom and Huck (1995)|Adventure|Children's|\n",
      "|      9| Sudden Death (1995)|              Action|\n",
      "|     10|    GoldenEye (1995)|Action|Adventure|...|\n",
      "+-------+--------------------+--------------------+\n",
      "only showing top 10 rows\n",
      "\n"
     ]
    }
   ],
   "source": [
    "#movies datafiles to dataframes\n",
    "movies_df = (spark.read.format(\"csv\")\n",
    "      .option(\"sep\", \",\")\n",
    "      .option(\"inferschema\", \"true\")\n",
    "      .option(\"header\", \"true\")\n",
    "      .option(\"samplingRatio\", 0.1)  # Adjust the sampling ratio \n",
    "      .load(movies_file)\n",
    "      .toDF(\"MovieID\",\"Titles\",\"Genres\"))\n",
    "movies_df.show(k)"
   ]
  },
  {
   "cell_type": "markdown",
   "id": "30ec061e-d518-49b7-89ec-05e6424ececa",
   "metadata": {},
   "source": [
    "# Movies and Ratings"
   ]
  },
  {
   "cell_type": "markdown",
   "id": "371ecfb4-b713-494c-968b-ac3e2f9f1801",
   "metadata": {},
   "source": [
    "## k-Most popular movies of all time\n",
    "### Finding k most popular movies of all times assuming k=10\n",
    "#### Considering rating timestamp, not the movie realease time"
   ]
  },
  {
   "cell_type": "code",
   "execution_count": 43,
   "id": "17ad0246-3fdb-42e1-a031-e79767f54019",
   "metadata": {},
   "outputs": [
    {
     "name": "stdout",
     "output_type": "stream",
     "text": [
      "+-------+-----------------+------+------+----------------+\n",
      "|MovieID|           Titles|UserID|Rating|Rating_Timestamp|\n",
      "+-------+-----------------+------+------+----------------+\n",
      "|      1| Toy Story (1995)|     1|     5|       978824268|\n",
      "|     48|Pocahontas (1995)|     1|     5|       978824351|\n",
      "|     21|Get Shorty (1995)|     2|     1|       978299839|\n",
      "+-------+-----------------+------+------+----------------+\n",
      "only showing top 3 rows\n",
      "\n"
     ]
    }
   ],
   "source": [
    "#INNER JOIN movies_df & ratings_df\n",
    "moviesNratings = movies_df.join(ratings_df,movies_df.MovieID == ratings_df.MovieID, 'inner').select(\n",
    "        movies_df.MovieID,movies_df.Titles,ratings_df.UserID,ratings_df.Rating, ratings_df.Rating_Timestamp)\n",
    "\n",
    "moviesNratings.sort(col(\"UserID\")).show(3)"
   ]
  },
  {
   "cell_type": "code",
   "execution_count": 44,
   "id": "1773d698-e300-4615-92fa-a8658b2652cf",
   "metadata": {},
   "outputs": [
    {
     "name": "stdout",
     "output_type": "stream",
     "text": [
      "+-------+--------------------+------------------+\n",
      "|MovieID|              Titles|       avg(Rating)|\n",
      "+-------+--------------------+------------------+\n",
      "|     53|     Lamerica (1994)|              4.75|\n",
      "|     50|Usual Suspects, T...| 4.517106001121705|\n",
      "|      1|    Toy Story (1995)| 4.146846413095811|\n",
      "|     47|Seven (Se7en) (1995)| 4.106420404573439|\n",
      "|     58|Postino, Il (The ...| 4.093812375249501|\n",
      "|     29|City of Lost Chil...| 4.062034739454094|\n",
      "|     28|   Persuasion (1995)| 4.055865921787709|\n",
      "|     17|Sense and Sensibi...| 4.027544910179641|\n",
      "|     41|  Richard III (1995)| 3.958677685950413|\n",
      "|     36|Dead Man Walking ...|3.9579741379310347|\n",
      "+-------+--------------------+------------------+\n",
      "only showing top 10 rows\n",
      "\n"
     ]
    }
   ],
   "source": [
    "most_pop_movies = moviesNratings.groupBy(\"MovieID\",\"Titles\").avg(\"Rating\").orderBy(\"avg(Rating)\", ascending=False)\n",
    "\n",
    "#writing to file\n",
    "most_pop_movies.limit(k).write.csv(output_csv_path, header=True, mode=\"append\")\n",
    "most_pop_movies.show(k)"
   ]
  },
  {
   "cell_type": "markdown",
   "id": "ce147cd0-b706-4f65-a367-bad1c0186437",
   "metadata": {},
   "source": [
    "## k-Most popular movies for a particular year\n",
    "### Finding k most popular movies of all times assuming k=10, year = 2000\n",
    "#### Considering rating timestamp, not the movie realease time"
   ]
  },
  {
   "cell_type": "code",
   "execution_count": 45,
   "id": "e916b264-1f19-46e0-a498-90ce57f71d02",
   "metadata": {},
   "outputs": [
    {
     "name": "stdout",
     "output_type": "stream",
     "text": [
      "+-------+----------------+------+------+----+\n",
      "|MovieID|          Titles|UserID|Rating|Year|\n",
      "+-------+----------------+------+------+----+\n",
      "|      1|Toy Story (1995)|     6|     4|2000|\n",
      "|      1|Toy Story (1995)|     8|     4|2000|\n",
      "|      1|Toy Story (1995)|     9|     5|2000|\n",
      "+-------+----------------+------+------+----+\n",
      "only showing top 3 rows\n",
      "\n"
     ]
    }
   ],
   "source": [
    "moviesNratings_withYear = moviesNratings.withColumn(\"Year\", year(from_unixtime(\"Rating_Timestamp\")))\\\n",
    "                               .select(\"MovieID\",\"Titles\",\"UserID\",\"Rating\",\"Year\")\\\n",
    "                               .where(col(\"Year\") == 2000)\n",
    "moviesNratings_withYear.show(3)"
   ]
  },
  {
   "cell_type": "code",
   "execution_count": 46,
   "id": "73fb9b93-ad97-47b9-8379-59a003e7a39b",
   "metadata": {},
   "outputs": [
    {
     "name": "stdout",
     "output_type": "stream",
     "text": [
      "+-------+--------------------+-----------------+\n",
      "|MovieID|              Titles|      avg(Rating)|\n",
      "+-------+--------------------+-----------------+\n",
      "|     53|     Lamerica (1994)|             4.75|\n",
      "|     50|Usual Suspects, T...|4.525898842169409|\n",
      "|     96|In the Bleak Midw...|              4.2|\n",
      "|      1|    Toy Story (1995)|4.146924250127097|\n",
      "|     47|Seven (Se7en) (1995)|4.110330992978937|\n",
      "|     58|Postino, Il (The ...|4.098684210526316|\n",
      "|     28|   Persuasion (1995)|4.096153846153846|\n",
      "|     29|City of Lost Chil...|4.058171745152355|\n",
      "|     17|Sense and Sensibi...|4.024901703800786|\n",
      "|     41|  Richard III (1995)|3.990990990990991|\n",
      "+-------+--------------------+-----------------+\n",
      "only showing top 10 rows\n",
      "\n"
     ]
    }
   ],
   "source": [
    "top_10_pop_movies_of_a_year = moviesNratings_withYear.select(\"MovieID\",\"Titles\",\"Rating\",\"Year\")\\\n",
    "                               .groupBy(\"MovieID\",\"Titles\").avg(\"Rating\").orderBy(\"avg(Rating)\",ascending=False)\n",
    "#writing to file\n",
    "top_10_pop_movies_of_a_year.limit(k).write.csv(output_csv_path, header=True, mode=\"append\")\n",
    "top_10_pop_movies_of_a_year.show(k)"
   ]
  },
  {
   "cell_type": "markdown",
   "id": "cbdb7b0d-a149-4fd8-95d3-f3db3975a23d",
   "metadata": {},
   "source": [
    "## k-Most popular movies for a particular season\n",
    "### Defining the season as (1: Winter, 2: Spring, 3: Summer, 4: Fall) \n",
    "### Assuming k=10, target_season = 3 (summer: month 7,8,9)\n",
    "#### Considering rating timestamp, not the movie realease time"
   ]
  },
  {
   "cell_type": "code",
   "execution_count": 47,
   "id": "f46639f4-479e-4387-ae26-9a035d87802a",
   "metadata": {},
   "outputs": [
    {
     "name": "stdout",
     "output_type": "stream",
     "text": [
      "+-------+----------------+------+------+-----+\n",
      "|MovieID|          Titles|UserID|Rating|Month|\n",
      "+-------+----------------+------+------+-----+\n",
      "|      1|Toy Story (1995)|   173|     4|    7|\n",
      "|      1|Toy Story (1995)|   193|     4|    7|\n",
      "|      1|Toy Story (1995)|   308|     4|    7|\n",
      "+-------+----------------+------+------+-----+\n",
      "only showing top 3 rows\n",
      "\n"
     ]
    }
   ],
   "source": [
    "target_season = 3\n",
    "moviesNratings_withMonth = moviesNratings.withColumn(\"Month\", month(from_unixtime(\"Rating_Timestamp\")))\\\n",
    "                               .select(\"MovieID\",\"Titles\",\"UserID\",\"Rating\",\"Month\")\\\n",
    "                               .where((col(\"Month\") >=(target_season * 3 - 2))&(col(\"Month\")<=(target_season * 3)))\n",
    "\n",
    "moviesNratings_withMonth.show(3)"
   ]
  },
  {
   "cell_type": "code",
   "execution_count": 48,
   "id": "2f53d2bf-ca3a-4024-9930-a163266f1c16",
   "metadata": {},
   "outputs": [
    {
     "name": "stdout",
     "output_type": "stream",
     "text": [
      "+-------+--------------------+------------------+\n",
      "|MovieID|              Titles|       avg(Rating)|\n",
      "+-------+--------------------+------------------+\n",
      "|     53|     Lamerica (1994)|              4.75|\n",
      "|     50|Usual Suspects, T...| 4.538109756097561|\n",
      "|     47|Seven (Se7en) (1995)| 4.206310679611651|\n",
      "|      1|    Toy Story (1995)| 4.155555555555556|\n",
      "|     58|Postino, Il (The ...|             4.125|\n",
      "|     29|City of Lost Chil...|4.0647482014388485|\n",
      "|     17|Sense and Sensibi...|              4.02|\n",
      "|     97|Hate (Haine, La) ...|               4.0|\n",
      "|     82|Antonia's Line (A...|               4.0|\n",
      "|     90|Journey of August...|               4.0|\n",
      "+-------+--------------------+------------------+\n",
      "only showing top 10 rows\n",
      "\n"
     ]
    }
   ],
   "source": [
    "top_10_pop_movies_of_summer = moviesNratings_withMonth.select(\"MovieID\",\"Titles\",\"Rating\",\"Month\")\\\n",
    "                                  .groupBy(\"MovieID\",\"Titles\").avg(\"Rating\").orderBy(\"avg(Rating)\",ascending=False)\n",
    "#writing to file\n",
    "top_10_pop_movies_of_summer.limit(k).write.csv(output_csv_path, header=True, mode=\"append\")\n",
    "top_10_pop_movies_of_summer.show(k)"
   ]
  },
  {
   "cell_type": "markdown",
   "id": "1fd6285b-59a3-4ae9-be6c-d7bcb8563a80",
   "metadata": {},
   "source": [
    "## Top k movies with the most ratings (presumably most popular) that have the lowest ratings\n",
    "#### Most rating counts, but less popular/lowest rating avg"
   ]
  },
  {
   "cell_type": "code",
   "execution_count": 49,
   "id": "7001c24d-560d-48fd-ab11-1c5908163116",
   "metadata": {
    "tags": []
   },
   "outputs": [
    {
     "name": "stdout",
     "output_type": "stream",
     "text": [
      "+-------+--------------------+-----+\n",
      "|MovieID|              Titles|count|\n",
      "+-------+--------------------+-----+\n",
      "|     55|      Georgia (1995)|   45|\n",
      "|     87|Dunston Checks In...|   76|\n",
      "|     88|  Black Sheep (1996)|  192|\n",
      "|     17|Sense and Sensibi...|  835|\n",
      "|     60|Indian in the Cup...|  357|\n",
      "|     21|   Get Shorty (1995)| 1356|\n",
      "|     61|Eye for an Eye (1...|   67|\n",
      "|     94|Beautiful Girls (...|  182|\n",
      "|     36|Dead Man Walking ...|  928|\n",
      "|     67|     Two Bits (1995)|    4|\n",
      "+-------+--------------------+-----+\n",
      "only showing top 10 rows\n",
      "\n"
     ]
    }
   ],
   "source": [
    "# count of the ratings\n",
    "moviesNratings_with_rating_counts = moviesNratings.groupBy(\"MovieID\",\"Titles\").count()                                                                 \n",
    "moviesNratings_with_rating_counts.show(10)"
   ]
  },
  {
   "cell_type": "code",
   "execution_count": 50,
   "id": "c24dc358-0367-432d-ab10-dd3beb4e111b",
   "metadata": {},
   "outputs": [
    {
     "name": "stdout",
     "output_type": "stream",
     "text": [
      "+-------+--------------------+----------+\n",
      "|MovieID|              Titles|avg_rating|\n",
      "+-------+--------------------+----------+\n",
      "|     55|      Georgia (1995)|      3.07|\n",
      "|     87|Dunston Checks In...|      2.21|\n",
      "|     88|  Black Sheep (1996)|      2.94|\n",
      "|     17|Sense and Sensibi...|      4.03|\n",
      "|     60|Indian in the Cup...|      3.21|\n",
      "|     21|   Get Shorty (1995)|      3.62|\n",
      "|     61|Eye for an Eye (1...|       3.0|\n",
      "|     94|Beautiful Girls (...|      3.73|\n",
      "|     36|Dead Man Walking ...|      3.96|\n",
      "|     67|     Two Bits (1995)|      3.25|\n",
      "+-------+--------------------+----------+\n",
      "only showing top 10 rows\n",
      "\n"
     ]
    }
   ],
   "source": [
    "# average of the ratings\n",
    "moviesNratings_with_avg_rating = moviesNratings.groupBy(\"MovieID\",\"Titles\").avg(\"Rating\")\n",
    "moviesNratings_with_avg_rating = moviesNratings_with_avg_rating.select(\"MovieID\",\"Titles\",round(\"avg(Rating)\",2).alias(\"avg_rating\"))\n",
    "moviesNratings_with_avg_rating.show(k)"
   ]
  },
  {
   "cell_type": "code",
   "execution_count": 51,
   "id": "eb6b1fea-b583-4b07-a7e7-88dce841d809",
   "metadata": {
    "tags": []
   },
   "outputs": [
    {
     "name": "stdout",
     "output_type": "stream",
     "text": [
      "+-------+--------------------+-----+----------+\n",
      "|MovieID|              Titles|count|avg_rating|\n",
      "+-------+--------------------+-----+----------+\n",
      "|      1|    Toy Story (1995)| 2077|      4.15|\n",
      "|     50|Usual Suspects, T...| 1783|      4.52|\n",
      "|     34|         Babe (1995)| 1751|      3.89|\n",
      "|     32|Twelve Monkeys (1...| 1511|      3.95|\n",
      "|     39|     Clueless (1995)| 1362|      3.62|\n",
      "|     21|   Get Shorty (1995)| 1356|      3.62|\n",
      "|     47|Seven (Se7en) (1995)| 1137|      4.11|\n",
      "|     11|American Presiden...| 1033|      3.79|\n",
      "|     25|Leaving Las Vegas...|  980|      3.65|\n",
      "|      6|         Heat (1995)|  940|      3.88|\n",
      "+-------+--------------------+-----+----------+\n",
      "only showing top 10 rows\n",
      "\n"
     ]
    }
   ],
   "source": [
    "# Joining movie rating-count and average-rating\n",
    "moviesNratings_rating_counts_with_avgRatings = moviesNratings_with_rating_counts.join(moviesNratings_with_avg_rating, \n",
    "                    moviesNratings_with_rating_counts.MovieID == moviesNratings_with_avg_rating.MovieID)\\\n",
    "                     .orderBy(\"count\", ascending=False)\\\n",
    "                     .select(moviesNratings_with_rating_counts.MovieID,\n",
    "                             moviesNratings_with_rating_counts.Titles,\"count\",\"avg_rating\")\n",
    "moviesNratings_rating_counts_with_avgRatings.show(k)"
   ]
  },
  {
   "cell_type": "code",
   "execution_count": 52,
   "id": "fab5a378-8769-4de9-9cb1-3e6b1381f1be",
   "metadata": {
    "tags": []
   },
   "outputs": [
    {
     "name": "stdout",
     "output_type": "stream",
     "text": [
      "+-------+--------------------+-----+----------+\n",
      "|MovieID|              Titles|count|avg_rating|\n",
      "+-------+--------------------+-----+----------+\n",
      "|      1|    Toy Story (1995)| 2077|      4.15|\n",
      "|     50|Usual Suspects, T...| 1783|      4.52|\n",
      "|     34|         Babe (1995)| 1751|      3.89|\n",
      "|     32|Twelve Monkeys (1...| 1511|      3.95|\n",
      "|     39|     Clueless (1995)| 1362|      3.62|\n",
      "|     21|   Get Shorty (1995)| 1356|      3.62|\n",
      "|     47|Seven (Se7en) (1995)| 1137|      4.11|\n",
      "|     11|American Presiden...| 1033|      3.79|\n",
      "|     25|Leaving Las Vegas...|  980|      3.65|\n",
      "|      6|         Heat (1995)|  940|      3.88|\n",
      "+-------+--------------------+-----+----------+\n",
      "only showing top 10 rows\n",
      "\n"
     ]
    }
   ],
   "source": [
    "#Calculating the result\n",
    "movies_hcount_lrating = moviesNratings_rating_counts_with_avgRatings.orderBy(['count', 'avg_rating'], ascending=[False, True])\n",
    "\n",
    "#writing to file\n",
    "movies_hcount_lrating.limit(k).write.csv(output_csv_path, header=True, mode=\"append\")\n",
    "movies_hcount_lrating.show(k)"
   ]
  },
  {
   "cell_type": "markdown",
   "id": "5180d3d1-6a71-4f9e-a4e1-ac3273a0bd4c",
   "metadata": {},
   "source": [
    "# Movies and Tags"
   ]
  },
  {
   "cell_type": "code",
   "execution_count": 53,
   "id": "369001e8-0350-455b-b92a-d916d78f4026",
   "metadata": {},
   "outputs": [
    {
     "name": "stdout",
     "output_type": "stream",
     "text": [
      "+-------+--------------------+--------------------+------+---------+-------------+\n",
      "|MovieID|              Titles|              Genres|UserID|      Tag|Tag_Timestamp|\n",
      "+-------+--------------------+--------------------+------+---------+-------------+\n",
      "|      1|    Toy Story (1995)|Animation|Childre...|     1|Excellent|    978824268|\n",
      "|     48|   Pocahontas (1995)|Animation|Childre...|     1|   Horror|    978824351|\n",
      "|     21|   Get Shorty (1995)| Action|Comedy|Drama|     2|   Horror|    978299839|\n",
      "|     95| Broken Arrow (1996)|     Action|Thriller|     2|   Normal|    978300143|\n",
      "|      6|         Heat (1995)|Action|Crime|Thri...|     5|     Poor|    978245916|\n",
      "|     24|       Powder (1995)|        Drama|Sci-Fi|     5|   Horror|    978242934|\n",
      "|     16|       Casino (1995)|      Drama|Thriller|     5|   Satire|    978245645|\n",
      "|     29|City of Lost Chil...|    Adventure|Sci-Fi|     5|   Satire|    978245065|\n",
      "|     32|Twelve Monkeys (1...|        Drama|Sci-Fi|     5|   Normal|    978244962|\n",
      "|     34|         Babe (1995)|Children's|Comedy...|     5|   Normal|    978244603|\n",
      "|     36|Dead Man Walking ...|               Drama|     5|      Bad|    978244808|\n",
      "|     39|     Clueless (1995)|      Comedy|Romance|     5|      Bad|    978245037|\n",
      "|     41|  Richard III (1995)|           Drama|War|     5|      Bad|    978244692|\n",
      "+-------+--------------------+--------------------+------+---------+-------------+\n",
      "only showing top 13 rows\n",
      "\n"
     ]
    }
   ],
   "source": [
    "#INNER JOIN movies_df & tags_df\n",
    "moviesNtags = movies_df.join(tags_df,movies_df.MovieID == tags_df.MovieID, 'inner').select(\n",
    "        movies_df.MovieID,movies_df.Titles,movies_df.Genres,tags_df.UserID,tags_df.Tag, tags_df.Tag_Timestamp)\\\n",
    "           .orderBy(\"UserID\", ascending=True)\n",
    "\n",
    "moviesNtags.show(13)"
   ]
  },
  {
   "cell_type": "markdown",
   "id": "f21523e7-df26-4d9f-97b3-ab0e22783f3f",
   "metadata": {
    "tags": []
   },
   "source": [
    "## k-Most tagged movies of all time\n",
    "### Finding k most tagged movies of all times assuming k=10\n",
    "#### Considering tagging timestamp, not the movie realease time"
   ]
  },
  {
   "cell_type": "code",
   "execution_count": 54,
   "id": "ca722069-d1c1-4b01-bca0-22f2246dafd7",
   "metadata": {
    "tags": []
   },
   "outputs": [
    {
     "name": "stdout",
     "output_type": "stream",
     "text": [
      "+-------+--------------------+-----+\n",
      "|MovieID|              Titles|count|\n",
      "+-------+--------------------+-----+\n",
      "|      1|    Toy Story (1995)|   36|\n",
      "|     34|         Babe (1995)|   30|\n",
      "|     50|Usual Suspects, T...|   28|\n",
      "|     47|Seven (Se7en) (1995)|   27|\n",
      "|     32|Twelve Monkeys (1...|   25|\n",
      "|     21|   Get Shorty (1995)|   21|\n",
      "|     17|Sense and Sensibi...|   21|\n",
      "|     39|     Clueless (1995)|   18|\n",
      "|     36|Dead Man Walking ...|   16|\n",
      "|      2|      Jumanji (1995)|   16|\n",
      "+-------+--------------------+-----+\n",
      "only showing top 10 rows\n",
      "\n"
     ]
    }
   ],
   "source": [
    "most_tagged_movies = moviesNtags.groupBy(\"MovieID\",\"Titles\").count().orderBy(\"count\", ascending=False)\n",
    "\n",
    "#writing to file\n",
    "most_tagged_movies.limit(k).write.csv(output_csv_path, header=True, mode=\"append\")\n",
    "most_tagged_movies.show(k)"
   ]
  },
  {
   "cell_type": "markdown",
   "id": "944860d0-0912-4797-b1ba-489b2334eaae",
   "metadata": {
    "tags": []
   },
   "source": [
    "## k-Most commonly used tags for movies of all time\n",
    "### Finding k most commomly used tags for movies of all times, assuming k=10"
   ]
  },
  {
   "cell_type": "code",
   "execution_count": 55,
   "id": "ed602024-ffa7-47dd-8c64-07219223eab5",
   "metadata": {
    "tags": []
   },
   "outputs": [
    {
     "name": "stdout",
     "output_type": "stream",
     "text": [
      "+---------+-----+\n",
      "|      Tag|count|\n",
      "+---------+-----+\n",
      "|      Bad|   93|\n",
      "|   Satire|   79|\n",
      "|   Normal|   71|\n",
      "|   Horror|   64|\n",
      "|     Poor|   61|\n",
      "|Excellent|   58|\n",
      "|   Action|   24|\n",
      "|       PG|   17|\n",
      "|     Best|   16|\n",
      "|     Good|   13|\n",
      "+---------+-----+\n",
      "only showing top 10 rows\n",
      "\n"
     ]
    }
   ],
   "source": [
    "most_used_tags = moviesNtags.groupBy(\"Tag\").count().orderBy(\"count\", ascending=False)\n",
    "\n",
    "#writing to file\n",
    "most_used_tags.limit(k).write.csv(output_csv_path, header=True, mode=\"append\")\n",
    "most_used_tags.show(k)"
   ]
  },
  {
   "cell_type": "markdown",
   "id": "f67dc693-1b6d-43a6-90e0-9eafe589577d",
   "metadata": {
    "tags": []
   },
   "source": [
    "## k-Most commonly used tags for the most common genre of the dataset\n",
    "### Finding the most common genre of the dataset,then finding the k-most common tags for that genre, assuming k=10"
   ]
  },
  {
   "cell_type": "code",
   "execution_count": 56,
   "id": "9084720e-bbef-4d72-a764-60b79b01af8e",
   "metadata": {
    "tags": []
   },
   "outputs": [
    {
     "name": "stdout",
     "output_type": "stream",
     "text": [
      "+-------+-----------------+------+---------+-------------+----------+\n",
      "|MovieID|           Titles|UserID|      Tag|Tag_Timestamp|     Genre|\n",
      "+-------+-----------------+------+---------+-------------+----------+\n",
      "|      1| Toy Story (1995)|     1|Excellent|    978824268| Animation|\n",
      "|      1| Toy Story (1995)|     1|Excellent|    978824268|Children's|\n",
      "|      1| Toy Story (1995)|     1|Excellent|    978824268|    Comedy|\n",
      "|     48|Pocahontas (1995)|     1|   Horror|    978824351| Animation|\n",
      "|     48|Pocahontas (1995)|     1|   Horror|    978824351|Children's|\n",
      "+-------+-----------------+------+---------+-------------+----------+\n",
      "only showing top 5 rows\n",
      "\n"
     ]
    }
   ],
   "source": [
    "#Exploding Genre\n",
    "movie_tagsNgenre = moviesNtags.withColumn(\"Genre\", explode(split(trim(col(\"Genres\")), \"\\\\|\"))).drop('Genres')\n",
    "movie_tagsNgenre.show(5)"
   ]
  },
  {
   "cell_type": "code",
   "execution_count": 57,
   "id": "64939b28-5be5-495e-af13-7b12ad3445ce",
   "metadata": {},
   "outputs": [
    {
     "name": "stdout",
     "output_type": "stream",
     "text": [
      "+----------+-----+\n",
      "|     Genre|count|\n",
      "+----------+-----+\n",
      "|     Drama|  220|\n",
      "|    Comedy|  176|\n",
      "|  Thriller|  137|\n",
      "|Children's|  116|\n",
      "|   Romance|  114|\n",
      "|     Crime|   88|\n",
      "|    Action|   87|\n",
      "| Adventure|   58|\n",
      "| Animation|   54|\n",
      "|    Sci-Fi|   51|\n",
      "|   Fantasy|   26|\n",
      "|   Musical|   19|\n",
      "|    Horror|   17|\n",
      "|       War|    2|\n",
      "+----------+-----+\n",
      "\n"
     ]
    }
   ],
   "source": [
    "#Finding the most common genre which is our targer genre\n",
    "genre_counts = movie_tagsNgenre.groupBy(\"Genre\").count().orderBy(\"count\", ascending=False)\n",
    "target_genre = genre_counts.collect()[0][0]\n",
    "genre_counts.show(25)"
   ]
  },
  {
   "cell_type": "code",
   "execution_count": 58,
   "id": "3d6c8ca9-2a57-483c-8c84-9158688f5a64",
   "metadata": {
    "tags": []
   },
   "outputs": [
    {
     "name": "stdout",
     "output_type": "stream",
     "text": [
      "+--------+------+-----+\n",
      "|   Genre|   Tag|count|\n",
      "+--------+------+-----+\n",
      "|   Drama|Satire|   45|\n",
      "|   Drama|   Bad|   44|\n",
      "|   Drama|Normal|   38|\n",
      "|Thriller|   Bad|   33|\n",
      "|   Drama|Horror|   32|\n",
      "+--------+------+-----+\n",
      "only showing top 5 rows\n",
      "\n"
     ]
    }
   ],
   "source": [
    "# Calculating the count of each tags for each genre\n",
    "r_movie_tagsNgenre = movie_tagsNgenre.groupBy(\"Genre\",\"Tag\").count().orderBy(['count','Genre'], ascending=[False, False])\n",
    "r_movie_tagsNgenre.show(5)"
   ]
  },
  {
   "cell_type": "code",
   "execution_count": 59,
   "id": "ad40f3d3-03c6-4211-a093-7f25a09bd2e3",
   "metadata": {},
   "outputs": [
    {
     "name": "stdout",
     "output_type": "stream",
     "text": [
      "+-------+--------------------+------+------+-------------+-----+\n",
      "|MovieID|              Titles|UserID|   Tag|Tag_Timestamp|Genre|\n",
      "+-------+--------------------+------+------+-------------+-----+\n",
      "|     21|   Get Shorty (1995)|     2|Horror|    978299839|Drama|\n",
      "|     16|       Casino (1995)|     5|Satire|    978245645|Drama|\n",
      "|     24|       Powder (1995)|     5|Horror|    978242934|Drama|\n",
      "|     32|Twelve Monkeys (1...|     5|Normal|    978244962|Drama|\n",
      "|     34|         Babe (1995)|     5|Normal|    978244603|Drama|\n",
      "|     36|Dead Man Walking ...|     5|   Bad|    978244808|Drama|\n",
      "|     41|  Richard III (1995)|     5|   Bad|    978244692|Drama|\n",
      "|     17|Sense and Sensibi...|     6|Horror|    978236383|Drama|\n",
      "|     34|         Babe (1995)|     6|Satire|    978237444|Drama|\n",
      "|      4|Waiting to Exhale...|     8|  Good|    978232203|Drama|\n",
      "+-------+--------------------+------+------+-------------+-----+\n",
      "only showing top 10 rows\n",
      "\n"
     ]
    }
   ],
   "source": [
    "tags_for_target_genre = movie_tagsNgenre.where(col(\"Genre\")== target_genre)\n",
    "\n",
    "#writing to file\n",
    "tags_for_target_genre.limit(k).write.csv(output_csv_path, header=True, mode=\"append\")\n",
    "tags_for_target_genre.show(k)"
   ]
  },
  {
   "cell_type": "markdown",
   "id": "8a4e13d2-b11c-4658-a856-8e1e517c4e54",
   "metadata": {},
   "source": [
    "## Finding the month of the year where movies get most tags based on tagging timestamp"
   ]
  },
  {
   "cell_type": "code",
   "execution_count": 60,
   "id": "9ad26063-b68e-4374-bee7-c2176990f962",
   "metadata": {},
   "outputs": [
    {
     "name": "stdout",
     "output_type": "stream",
     "text": [
      "+-------+--------------------+---------+-----+\n",
      "|MovieID|              Titles|      Tag|Month|\n",
      "+-------+--------------------+---------+-----+\n",
      "|      1|    Toy Story (1995)|Excellent|    1|\n",
      "|     48|   Pocahontas (1995)|   Horror|    1|\n",
      "|     21|   Get Shorty (1995)|   Horror|   12|\n",
      "|     95| Broken Arrow (1996)|   Normal|   12|\n",
      "|     24|       Powder (1995)|   Horror|   12|\n",
      "|      6|         Heat (1995)|     Poor|   12|\n",
      "|     16|       Casino (1995)|   Satire|   12|\n",
      "|     29|City of Lost Chil...|   Satire|   12|\n",
      "|     32|Twelve Monkeys (1...|   Normal|   12|\n",
      "|     34|         Babe (1995)|   Normal|   12|\n",
      "|     36|Dead Man Walking ...|      Bad|   12|\n",
      "|     39|     Clueless (1995)|      Bad|   12|\n",
      "|     41|  Richard III (1995)|      Bad|   12|\n",
      "|     47|Seven (Se7en) (1995)|      Bad|   12|\n",
      "|     50|Usual Suspects, T...|      Bad|   12|\n",
      "+-------+--------------------+---------+-----+\n",
      "only showing top 15 rows\n",
      "\n"
     ]
    }
   ],
   "source": [
    "moviesNtags_withMonth = moviesNtags.withColumn(\"Month\", month(from_unixtime(\"Tag_Timestamp\")))\\\n",
    "                               .select(\"MovieID\",\"Titles\",\"Tag\",\"Month\")\n",
    "moviesNtags_withMonth.show(15)"
   ]
  },
  {
   "cell_type": "code",
   "execution_count": 61,
   "id": "549e1417-2a47-41a6-b9d0-fa7e4ec318be",
   "metadata": {},
   "outputs": [
    {
     "name": "stdout",
     "output_type": "stream",
     "text": [
      "+-----+-----+\n",
      "|Month|count|\n",
      "+-----+-----+\n",
      "|   12|  404|\n",
      "|    1|   57|\n",
      "|    6|   15|\n",
      "|    4|    8|\n",
      "|    2|    8|\n",
      "|    3|    2|\n",
      "|    5|    2|\n",
      "|    7|    2|\n",
      "|   10|    1|\n",
      "+-----+-----+\n",
      "\n"
     ]
    }
   ],
   "source": [
    "moviesNtags_withMonth = moviesNtags_withMonth.groupBy(\"Month\").count().orderBy('count',ascending = False)\n",
    "\n",
    "#writing to file\n",
    "moviesNtags_withMonth.limit(12).write.csv(output_csv_path, header=True, mode=\"append\")\n",
    "moviesNtags_withMonth.show(12)"
   ]
  },
  {
   "cell_type": "markdown",
   "id": "db2b2f92-62a1-4e61-9a01-3cd983248aa9",
   "metadata": {},
   "source": [
    "## For a particular genre which month is getting most tags\n",
    "### selecting genre = Thriller"
   ]
  },
  {
   "cell_type": "code",
   "execution_count": 62,
   "id": "a2585541-0856-4141-b5c1-2ba5259b1fa2",
   "metadata": {},
   "outputs": [
    {
     "name": "stdout",
     "output_type": "stream",
     "text": [
      "+-------+-----------------+--------+------+-----+\n",
      "|MovieID|           Titles|  Genres|   Tag|Month|\n",
      "+-------+-----------------+--------+------+-----+\n",
      "|     23| Assassins (1995)|Thriller|Horror|   12|\n",
      "|     18|Four Rooms (1995)|Thriller|Satire|   12|\n",
      "+-------+-----------------+--------+------+-----+\n",
      "\n"
     ]
    }
   ],
   "source": [
    "moviesNtags_Mn_Gn = moviesNtags.withColumn(\"Month\", month(from_unixtime(\"Tag_Timestamp\")))\\\n",
    "                               .select(\"MovieID\",\"Titles\",\"Genres\",\"Tag\",\"Month\").where(col('Genres') == 'Thriller')\n",
    "moviesNtags_Mn_Gn.show(k)"
   ]
  },
  {
   "cell_type": "code",
   "execution_count": 63,
   "id": "f85a0d0d-d10e-4bbb-bcbb-4f96f5e3ad3f",
   "metadata": {},
   "outputs": [
    {
     "name": "stdout",
     "output_type": "stream",
     "text": [
      "+-----+-----+\n",
      "|Month|count|\n",
      "+-----+-----+\n",
      "|   12|    2|\n",
      "+-----+-----+\n",
      "\n"
     ]
    }
   ],
   "source": [
    "moviesNtags_Mn_Gn = moviesNtags_Mn_Gn.groupBy(\"Month\").count().orderBy('count',ascending = False)\n",
    "\n",
    "#writing to file\n",
    "moviesNtags_Mn_Gn.limit(12).write.csv(output_csv_path, header=True, mode=\"append\")\n",
    "moviesNtags_Mn_Gn.show(12)"
   ]
  },
  {
   "cell_type": "code",
   "execution_count": 64,
   "id": "81de3761-df74-474a-95b6-3468b35de407",
   "metadata": {},
   "outputs": [],
   "source": [
    "#stopping spark\n",
    "spark.stop()"
   ]
  }
 ],
 "metadata": {
  "kernelspec": {
   "display_name": "Python 3",
   "language": "python",
   "name": "python3"
  },
  "language_info": {
   "codemirror_mode": {
    "name": "ipython",
    "version": 3
   },
   "file_extension": ".py",
   "mimetype": "text/x-python",
   "name": "python",
   "nbconvert_exporter": "python",
   "pygments_lexer": "ipython3",
   "version": "3.8.8"
  }
 },
 "nbformat": 4,
 "nbformat_minor": 5
}
