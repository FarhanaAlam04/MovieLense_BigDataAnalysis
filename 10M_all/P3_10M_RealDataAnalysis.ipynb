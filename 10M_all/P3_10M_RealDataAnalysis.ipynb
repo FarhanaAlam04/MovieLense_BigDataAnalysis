{
 "cells": [
  {
   "cell_type": "markdown",
   "id": "a2e84a40-c3a2-4012-b318-8bf4ca326957",
   "metadata": {},
   "source": [
    "# Project3_10M_MovieLens Data Analysis\n",
    "### Author : Farhana Alam"
   ]
  },
  {
   "cell_type": "markdown",
   "id": "6e7c677a-f82d-431b-a8bf-1927c52a06fd",
   "metadata": {},
   "source": [
    "[k-Most popular movies of all time](#1)\\\n",
    "[k-Most popular movies for a particular year](#2)\\\n",
    "[k-Most popular movies for a particular season](#3)\\\n",
    "[Top k movies with the most ratings (presumably most popular) that have the lowest ratings](#4)\\\n",
    "[k-Most tagged movies of all time](#5)\\\n",
    "[k-Most commonly used tags for movies of all time](#6)\\\n",
    "[k-Most commonly used tags for the most common genre of the dataset](#7)\\\n",
    "[Finding the month of the year where movies get most tags based on tagging timestamp](#8)\\\n",
    "[For a particular genre which month is getting most tags](#9)"
   ]
  },
  {
   "cell_type": "code",
   "execution_count": 1,
   "id": "62a87037-7975-4e57-b77d-85e8b12aee59",
   "metadata": {},
   "outputs": [],
   "source": [
    "from pyspark.sql.types import *\n",
    "from pyspark.sql import SparkSession\n",
    "from pyspark.sql.functions import *\n",
    "import pyspark.sql.functions as func\n",
    "import sys\n",
    "k = 10"
   ]
  },
  {
   "cell_type": "code",
   "execution_count": 2,
   "id": "52def90f-f999-4530-bc7d-6f6bd5f627b6",
   "metadata": {},
   "outputs": [],
   "source": [
    "# Creating a Spark session\n",
    "spark = (SparkSession\n",
    "        .builder\n",
    "        .appName(\"Spark Project3 10M Movie Data Analysis\")\n",
    "        .getOrCreate())"
   ]
  },
  {
   "cell_type": "code",
   "execution_count": 3,
   "id": "a0ed0c6f-ef89-4e16-be44-ed6bdaa95c15",
   "metadata": {},
   "outputs": [],
   "source": [
    "# Loading the 10M MovieLens DataFiles\n",
    "movies_file = \"Documents/CS535/movie_data/ml-10m/movies.dat\"\n",
    "ratings_file = \"Documents/CS535/movie_data/ml-10m/ratings.dat\"\n",
    "tags_file = \"Documents/CS535/movie_data/ml-10m/tags.dat\"\n",
    "\n",
    "# Output CSV file path\n",
    "output_csv_path = \"Documents/CS535/movie_data/ml-10m-output1\""
   ]
  },
  {
   "cell_type": "code",
   "execution_count": 4,
   "id": "4eb0462e-82b7-4931-b172-f2f8e721ffe5",
   "metadata": {},
   "outputs": [
    {
     "name": "stdout",
     "output_type": "stream",
     "text": [
      "+------+-------+------+----------------+\n",
      "|UserID|MovieID|Rating|Rating_Timestamp|\n",
      "+------+-------+------+----------------+\n",
      "|     1|    122|   5.0|       838985046|\n",
      "|     1|    185|   5.0|       838983525|\n",
      "|     1|    231|   5.0|       838983392|\n",
      "|     1|    292|   5.0|       838983421|\n",
      "|     1|    316|   5.0|       838983392|\n",
      "|     1|    329|   5.0|       838983392|\n",
      "|     1|    355|   5.0|       838984474|\n",
      "|     1|    356|   5.0|       838983653|\n",
      "|     1|    362|   5.0|       838984885|\n",
      "|     1|    364|   5.0|       838983707|\n",
      "+------+-------+------+----------------+\n",
      "only showing top 10 rows\n",
      "\n"
     ]
    }
   ],
   "source": [
    "#ratings datafiles to dataframes\n",
    "ratings_df = (spark.read.format(\"csv\")\n",
    "    .option(\"sep\", \"::\")\n",
    "    .option(\"inferschema\", \"true\")\n",
    "    .option(\"samplingRatio\", 0.1)  # Adjust the sampling ratio\n",
    "    .load(ratings_file)\n",
    "    .toDF(\"UserID\", \"MovieID\", \"Rating\", \"Rating_Timestamp\"))\n",
    "\n",
    "ratings_df.show(k)"
   ]
  },
  {
   "cell_type": "code",
   "execution_count": 5,
   "id": "48ada103-b877-44c6-96cf-0f52a7cb327e",
   "metadata": {},
   "outputs": [
    {
     "name": "stdout",
     "output_type": "stream",
     "text": [
      "+------+-------+---------------+-------------+\n",
      "|UserID|MovieID|            Tag|Tag_Timestamp|\n",
      "+------+-------+---------------+-------------+\n",
      "|    15|   4973|     excellent!|   1215184630|\n",
      "|    20|   1747|       politics|   1188263867|\n",
      "|    20|   1747|         satire|   1188263867|\n",
      "|    20|   2424|chick flick 212|   1188263835|\n",
      "|    20|   2424|          hanks|   1188263835|\n",
      "|    20|   2424|           ryan|   1188263835|\n",
      "|    20|   2947|         action|   1188263755|\n",
      "|    20|   2947|           bond|   1188263756|\n",
      "|    20|   3033|          spoof|   1188263880|\n",
      "|    20|   3033|      star wars|   1188263880|\n",
      "+------+-------+---------------+-------------+\n",
      "only showing top 10 rows\n",
      "\n"
     ]
    }
   ],
   "source": [
    "#tags datafiles to dataframes\n",
    "tags_df = (spark.read.format(\"csv\")\n",
    "    .option(\"sep\", \"::\")\n",
    "    .option(\"inferschema\", \"true\")\n",
    "    .option(\"samplingRatio\", 0.1)  # Adjust the sampling ratio\n",
    "    .load(tags_file)\n",
    "    .toDF(\"UserID\", \"MovieID\", \"Tag\", \"Tag_Timestamp\"))\n",
    "\n",
    "tags_df.show(k)"
   ]
  },
  {
   "cell_type": "code",
   "execution_count": 6,
   "id": "68df6e36-fb3c-4aa9-adc3-d663364819d2",
   "metadata": {},
   "outputs": [
    {
     "name": "stdout",
     "output_type": "stream",
     "text": [
      "+-------+--------------------+--------------------+\n",
      "|MovieID|              Titles|              Genres|\n",
      "+-------+--------------------+--------------------+\n",
      "|      2|      Jumanji (1995)|Adventure|Childre...|\n",
      "|      3|Grumpier Old Men ...|      Comedy|Romance|\n",
      "|      4|Waiting to Exhale...|Comedy|Drama|Romance|\n",
      "|      5|Father of the Bri...|              Comedy|\n",
      "|      6|         Heat (1995)|Action|Crime|Thri...|\n",
      "|      7|      Sabrina (1995)|      Comedy|Romance|\n",
      "|      8| Tom and Huck (1995)|  Adventure|Children|\n",
      "|      9| Sudden Death (1995)|              Action|\n",
      "|     10|    GoldenEye (1995)|Action|Adventure|...|\n",
      "|     11|American Presiden...|Comedy|Drama|Romance|\n",
      "+-------+--------------------+--------------------+\n",
      "only showing top 10 rows\n",
      "\n"
     ]
    }
   ],
   "source": [
    "#movies datafiles to dataframes\n",
    "movies_df = (spark.read.format(\"csv\")\n",
    "      .option(\"sep\", \"::\")\n",
    "      .option(\"header\", \"true\")\n",
    "      .option(\"samplingRatio\", 0.1)  # Adjust the sampling ratio \n",
    "      .load(movies_file)\n",
    "      .toDF(\"MovieID\",\"Titles\",\"Genres\"))\n",
    "movies_df.show(k)"
   ]
  },
  {
   "cell_type": "markdown",
   "id": "fbcc4a0e-d146-4966-a296-150e6716e8cb",
   "metadata": {},
   "source": [
    "# Movies and Ratings"
   ]
  },
  {
   "cell_type": "code",
   "execution_count": 7,
   "id": "a8b68083-839b-484d-8e3b-88406e03c113",
   "metadata": {},
   "outputs": [
    {
     "name": "stdout",
     "output_type": "stream",
     "text": [
      "+-------+--------------------+------+------+----------------+\n",
      "|MovieID|              Titles|UserID|Rating|Rating_Timestamp|\n",
      "+-------+--------------------+------+------+----------------+\n",
      "|    122|    Boomerang (1992)|     1|   5.0|       838985046|\n",
      "|    185|     Net, The (1995)|     1|   5.0|       838983525|\n",
      "|    231|Dumb & Dumber (1994)|     1|   5.0|       838983392|\n",
      "+-------+--------------------+------+------+----------------+\n",
      "only showing top 3 rows\n",
      "\n"
     ]
    }
   ],
   "source": [
    "#INNER JOIN movies_df & ratings_df\n",
    "moviesNratings = movies_df.join(ratings_df,movies_df.MovieID == ratings_df.MovieID, 'inner').select(\n",
    "        movies_df.MovieID,movies_df.Titles,ratings_df.UserID,ratings_df.Rating, ratings_df.Rating_Timestamp)\n",
    "\n",
    "moviesNratings.sort(col(\"UserID\")).show(3)"
   ]
  },
  {
   "cell_type": "markdown",
   "id": "2436e702-64dc-4cd6-b1cd-82ccdcbf3a49",
   "metadata": {},
   "source": [
    "<a id=\"1\"></a>\n",
    "## k-Most popular movies of all time\n",
    "### Finding k most popular movies of all times assuming k=10\n",
    "#### Considering rating timestamp, not the movie realease time"
   ]
  },
  {
   "cell_type": "code",
   "execution_count": 8,
   "id": "7cc1c6f2-4cd9-4486-b8d4-1136f9f7a155",
   "metadata": {},
   "outputs": [
    {
     "name": "stdout",
     "output_type": "stream",
     "text": [
      "+-------+--------------------+-----------+\n",
      "|MovieID|              Titles|avg(Rating)|\n",
      "+-------+--------------------+-----------+\n",
      "|  33264|Satan's Tango (Sá...|        5.0|\n",
      "|  51209|Fighting Elegy (K...|        5.0|\n",
      "|  53355|Sun Alley (Sonnen...|        5.0|\n",
      "|  42783|Shadows of Forgot...|        5.0|\n",
      "|  64275|Blue Light, The (...|        5.0|\n",
      "|   5194|Who's Singin' Ove...|       4.75|\n",
      "|  26048|Human Condition I...|       4.75|\n",
      "|   4454|         More (1998)|       4.75|\n",
      "|  65001|Constantine's Swo...|       4.75|\n",
      "|  26073|Human Condition I...|       4.75|\n",
      "+-------+--------------------+-----------+\n",
      "only showing top 10 rows\n",
      "\n"
     ]
    }
   ],
   "source": [
    "most_pop_movies = moviesNratings.groupBy(\"MovieID\",\"Titles\").avg(\"Rating\").orderBy(\"avg(Rating)\", ascending=False)\n",
    "\n",
    "#writing to file\n",
    "most_pop_movies.limit(k).write.csv(output_csv_path, header=True, mode=\"append\")\n",
    "most_pop_movies.show(k)"
   ]
  },
  {
   "cell_type": "markdown",
   "id": "fb7777c4-6456-4fc9-b412-a40ecc5024ca",
   "metadata": {},
   "source": [
    "<a id=\"2\"></a>\n",
    "## k-Most popular movies for a particular year\n",
    "### Finding k most popular movies of all times assuming k=10, year = 2000\n",
    "#### Considering rating timestamp, not the movie realease time"
   ]
  },
  {
   "cell_type": "code",
   "execution_count": 9,
   "id": "6e3d7dd1-59e1-4c68-857a-b7cd6c167252",
   "metadata": {},
   "outputs": [
    {
     "name": "stdout",
     "output_type": "stream",
     "text": [
      "+-------+--------------------+------+------+----+\n",
      "|MovieID|              Titles|UserID|Rating|Year|\n",
      "+-------+--------------------+------+------+----+\n",
      "|      5|Father of the Bri...|    12|   3.0|2000|\n",
      "|    253|Interview with th...|    12|   3.0|2000|\n",
      "|    345|Adventures of Pri...|    12|   4.0|2000|\n",
      "+-------+--------------------+------+------+----+\n",
      "only showing top 3 rows\n",
      "\n"
     ]
    }
   ],
   "source": [
    "moviesNratings_withYear = moviesNratings.withColumn(\"Year\", year(from_unixtime(\"Rating_Timestamp\")))\\\n",
    "                               .select(\"MovieID\",\"Titles\",\"UserID\",\"Rating\",\"Year\")\\\n",
    "                               .where(col(\"Year\") == 2000)\n",
    "moviesNratings_withYear.show(3)"
   ]
  },
  {
   "cell_type": "code",
   "execution_count": 10,
   "id": "098931b0-cde8-4a83-b5d9-bdf4b358f5ef",
   "metadata": {},
   "outputs": [
    {
     "name": "stdout",
     "output_type": "stream",
     "text": [
      "+-------+--------------------+-----------+\n",
      "|MovieID|              Titles|avg(Rating)|\n",
      "+-------+--------------------+-----------+\n",
      "|    756|Carmen Miranda: B...|        5.0|\n",
      "|   3595|      Held Up (1999)|        5.0|\n",
      "|   3236|    Zachariah (1971)|        5.0|\n",
      "|   3172|Ulysses (Ulisse) ...|        5.0|\n",
      "|    989|Brother of Sleep ...|        5.0|\n",
      "|    654|Und keiner weint ...|        5.0|\n",
      "|    584|I Don't Want to T...|        5.0|\n",
      "|   1768|Mother and Son (M...|        5.0|\n",
      "|   2270|Century of Cinema...|        5.0|\n",
      "|   3280|    Baby, The (1973)|        5.0|\n",
      "+-------+--------------------+-----------+\n",
      "only showing top 10 rows\n",
      "\n"
     ]
    }
   ],
   "source": [
    "top_10_pop_movies_of_a_year = moviesNratings_withYear.select(\"MovieID\",\"Titles\",\"Rating\",\"Year\")\\\n",
    "                               .groupBy(\"MovieID\",\"Titles\").avg(\"Rating\").orderBy(\"avg(Rating)\",ascending=False)\n",
    "#writing to file\n",
    "top_10_pop_movies_of_a_year.limit(k).write.csv(output_csv_path, header=True, mode=\"append\")\n",
    "top_10_pop_movies_of_a_year.show(k)"
   ]
  },
  {
   "cell_type": "markdown",
   "id": "fb01c420-afc9-4bca-aa7d-23651ecba212",
   "metadata": {},
   "source": [
    "<a id=\"3\"></a>\n",
    "## k-Most popular movies for a particular season\n",
    "### Defining the season as (1: Winter, 2: Spring, 3: Summer, 4: Fall) \n",
    "### Assuming k=10, target_season = 3 (summer: month 7,8,9)\n",
    "#### Considering rating timestamp, not the movie realease time"
   ]
  },
  {
   "cell_type": "code",
   "execution_count": 11,
   "id": "e5dd11d7-e5c9-47bf-ac72-2228f77a866f",
   "metadata": {},
   "outputs": [
    {
     "name": "stdout",
     "output_type": "stream",
     "text": [
      "+-------+--------------------+------+------+-----+\n",
      "|MovieID|              Titles|UserID|Rating|Month|\n",
      "+-------+--------------------+------+------+-----+\n",
      "|    122|    Boomerang (1992)|     1|   5.0|    8|\n",
      "|    185|     Net, The (1995)|     1|   5.0|    8|\n",
      "|    231|Dumb & Dumber (1994)|     1|   5.0|    8|\n",
      "+-------+--------------------+------+------+-----+\n",
      "only showing top 3 rows\n",
      "\n"
     ]
    }
   ],
   "source": [
    "target_season = 3\n",
    "moviesNratings_withMonth = moviesNratings.withColumn(\"Month\", month(from_unixtime(\"Rating_Timestamp\")))\\\n",
    "                               .select(\"MovieID\",\"Titles\",\"UserID\",\"Rating\",\"Month\")\\\n",
    "                               .where((col(\"Month\") >=(target_season * 3 - 2))&(col(\"Month\")<=(target_season * 3)))\n",
    "\n",
    "moviesNratings_withMonth.show(3)"
   ]
  },
  {
   "cell_type": "code",
   "execution_count": 12,
   "id": "9611d637-b43c-41b3-8a94-3fcbcc4861e3",
   "metadata": {},
   "outputs": [
    {
     "name": "stdout",
     "output_type": "stream",
     "text": [
      "+-------+--------------------+-----------+\n",
      "|MovieID|              Titles|avg(Rating)|\n",
      "+-------+--------------------+-----------+\n",
      "|   5194|Who's Singin' Ove...|        5.0|\n",
      "|  25975|Life of Oharu, Th...|        5.0|\n",
      "|   8120|  29th Street (1991)|        5.0|\n",
      "|   3233|Smashing Time (1967)|        5.0|\n",
      "|    654|Und keiner weint ...|        5.0|\n",
      "|    401|       Mirage (1995)|        5.0|\n",
      "|   4454|         More (1998)|        5.0|\n",
      "|  42783|Shadows of Forgot...|        5.0|\n",
      "|   5849|I'm Starting From...|        5.0|\n",
      "|    395| Desert Winds (1995)|        5.0|\n",
      "+-------+--------------------+-----------+\n",
      "only showing top 10 rows\n",
      "\n"
     ]
    }
   ],
   "source": [
    "top_10_pop_movies_of_summer = moviesNratings_withMonth.select(\"MovieID\",\"Titles\",\"Rating\",\"Month\")\\\n",
    "                                  .groupBy(\"MovieID\",\"Titles\").avg(\"Rating\").orderBy(\"avg(Rating)\",ascending=False)\n",
    "#writing to file\n",
    "top_10_pop_movies_of_summer.limit(k).write.csv(output_csv_path, header=True, mode=\"append\")\n",
    "top_10_pop_movies_of_summer.show(k)"
   ]
  },
  {
   "cell_type": "markdown",
   "id": "6a674486-33c5-4f27-8f9a-381ef6fe13db",
   "metadata": {},
   "source": [
    "<a id=\"4\"></a>\n",
    "## Top k movies with the most ratings (presumably most popular) that have the lowest ratings\n",
    "#### Most rating counts, but less popular/lowest rating avg"
   ]
  },
  {
   "cell_type": "code",
   "execution_count": 13,
   "id": "a86fcf04-1ef3-4da4-8170-c19005738a1c",
   "metadata": {},
   "outputs": [
    {
     "name": "stdout",
     "output_type": "stream",
     "text": [
      "+-------+--------------------+-----+\n",
      "|MovieID|              Titles|count|\n",
      "+-------+--------------------+-----+\n",
      "|   4995|Beautiful Mind, A...| 9575|\n",
      "|   7153|Lord of the Rings...|12366|\n",
      "|   4027|O Brother, Where ...| 9445|\n",
      "|   4015|Dude, Where's My ...| 2496|\n",
      "|   4866|Last Castle, The ...|  823|\n",
      "|   1324|Amityville: Dollh...|  154|\n",
      "|   2728|    Spartacus (1960)| 2577|\n",
      "|     63|Don't Be a Menace...| 1343|\n",
      "|   2202|     Lifeboat (1944)|  887|\n",
      "|   2372| Fletch Lives (1989)| 1140|\n",
      "+-------+--------------------+-----+\n",
      "only showing top 10 rows\n",
      "\n"
     ]
    }
   ],
   "source": [
    "# count of the ratings\n",
    "moviesNratings_with_rating_counts = moviesNratings.groupBy(\"MovieID\",\"Titles\").count()                                                                 \n",
    "moviesNratings_with_rating_counts.show(10)"
   ]
  },
  {
   "cell_type": "code",
   "execution_count": 14,
   "id": "e6f86314-4e9f-46ca-a461-740af5c107e7",
   "metadata": {},
   "outputs": [
    {
     "name": "stdout",
     "output_type": "stream",
     "text": [
      "+-------+--------------------+----------+\n",
      "|MovieID|              Titles|avg_rating|\n",
      "+-------+--------------------+----------+\n",
      "|   4995|Beautiful Mind, A...|      3.91|\n",
      "|   7153|Lord of the Rings...|      4.16|\n",
      "|   4027|O Brother, Where ...|      3.89|\n",
      "|   4015|Dude, Where's My ...|       2.5|\n",
      "|   4866|Last Castle, The ...|       3.3|\n",
      "|   1324|Amityville: Dollh...|      1.71|\n",
      "|   2728|    Spartacus (1960)|      3.89|\n",
      "|     63|Don't Be a Menace...|      3.05|\n",
      "|   2202|     Lifeboat (1944)|      3.89|\n",
      "|   2372| Fletch Lives (1989)|      2.88|\n",
      "+-------+--------------------+----------+\n",
      "only showing top 10 rows\n",
      "\n"
     ]
    }
   ],
   "source": [
    "# average of the ratings\n",
    "moviesNratings_with_avg_rating = moviesNratings.groupBy(\"MovieID\",\"Titles\").avg(\"Rating\")\n",
    "moviesNratings_with_avg_rating = moviesNratings_with_avg_rating.select(\"MovieID\",\"Titles\",round(\"avg(Rating)\",2).alias(\"avg_rating\"))\n",
    "moviesNratings_with_avg_rating.show(k)"
   ]
  },
  {
   "cell_type": "code",
   "execution_count": 15,
   "id": "5590a522-9d8d-4672-a561-4739725f9714",
   "metadata": {},
   "outputs": [
    {
     "name": "stdout",
     "output_type": "stream",
     "text": [
      "+-------+--------------------+-----+----------+\n",
      "|MovieID|              Titles|count|avg_rating|\n",
      "+-------+--------------------+-----+----------+\n",
      "|    296| Pulp Fiction (1994)|34864|      4.16|\n",
      "|    356| Forrest Gump (1994)|34457|      4.01|\n",
      "|    593|Silence of the La...|33668|       4.2|\n",
      "|    480|Jurassic Park (1993)|32631|      3.66|\n",
      "|    318|Shawshank Redempt...|31126|      4.46|\n",
      "|    110|   Braveheart (1995)|29154|      4.08|\n",
      "|    457|Fugitive, The (1993)|28951|      4.01|\n",
      "|    589|Terminator 2: Jud...|28948|      3.93|\n",
      "|    260|Star Wars: Episod...|28566|      4.22|\n",
      "|    150|    Apollo 13 (1995)|27035|      3.89|\n",
      "+-------+--------------------+-----+----------+\n",
      "only showing top 10 rows\n",
      "\n"
     ]
    }
   ],
   "source": [
    "# Joining movie rating-count and average-rating\n",
    "moviesNratings_rating_counts_with_avgRatings = moviesNratings_with_rating_counts.join(moviesNratings_with_avg_rating, \n",
    "                    moviesNratings_with_rating_counts.MovieID == moviesNratings_with_avg_rating.MovieID)\\\n",
    "                     .orderBy(\"count\", ascending=False)\\\n",
    "                     .select(moviesNratings_with_rating_counts.MovieID,\n",
    "                             moviesNratings_with_rating_counts.Titles,\"count\",\"avg_rating\")\n",
    "moviesNratings_rating_counts_with_avgRatings.show(k)"
   ]
  },
  {
   "cell_type": "code",
   "execution_count": 16,
   "id": "9d326e3c-5346-4f04-92b2-f78ef69ce804",
   "metadata": {},
   "outputs": [
    {
     "name": "stdout",
     "output_type": "stream",
     "text": [
      "+-------+--------------------+-----+----------+\n",
      "|MovieID|              Titles|count|avg_rating|\n",
      "+-------+--------------------+-----+----------+\n",
      "|    296| Pulp Fiction (1994)|34864|      4.16|\n",
      "|    356| Forrest Gump (1994)|34457|      4.01|\n",
      "|    593|Silence of the La...|33668|       4.2|\n",
      "|    480|Jurassic Park (1993)|32631|      3.66|\n",
      "|    318|Shawshank Redempt...|31126|      4.46|\n",
      "|    110|   Braveheart (1995)|29154|      4.08|\n",
      "|    457|Fugitive, The (1993)|28951|      4.01|\n",
      "|    589|Terminator 2: Jud...|28948|      3.93|\n",
      "|    260|Star Wars: Episod...|28566|      4.22|\n",
      "|    150|    Apollo 13 (1995)|27035|      3.89|\n",
      "+-------+--------------------+-----+----------+\n",
      "only showing top 10 rows\n",
      "\n"
     ]
    }
   ],
   "source": [
    "#Calculating the result\n",
    "movies_hcount_lrating = moviesNratings_rating_counts_with_avgRatings.orderBy(['count', 'avg_rating'], ascending=[False, True])\n",
    "\n",
    "#writing to file\n",
    "movies_hcount_lrating.limit(k).write.csv(output_csv_path, header=True, mode=\"append\")\n",
    "movies_hcount_lrating.show(k)"
   ]
  },
  {
   "cell_type": "markdown",
   "id": "2b4bf6a2-9765-4a71-bc1e-31dccdba2011",
   "metadata": {},
   "source": [
    "# Movies and Tags"
   ]
  },
  {
   "cell_type": "code",
   "execution_count": 17,
   "id": "49c93944-d395-46ce-a642-6e65718d5693",
   "metadata": {},
   "outputs": [
    {
     "name": "stdout",
     "output_type": "stream",
     "text": [
      "+-------+--------------------+--------------------+------+---------------+-------------+\n",
      "|MovieID|              Titles|              Genres|UserID|            Tag|Tag_Timestamp|\n",
      "+-------+--------------------+--------------------+------+---------------+-------------+\n",
      "|   4973|Amelie (Fabuleux ...|      Comedy|Romance|    15|     excellent!|   1215184630|\n",
      "|   1747|  Wag the Dog (1997)|              Comedy|    20|       politics|   1188263867|\n",
      "|   1747|  Wag the Dog (1997)|              Comedy|    20|         satire|   1188263867|\n",
      "|   2424|You've Got Mail (...|      Comedy|Romance|    20|chick flick 212|   1188263835|\n",
      "|   2424|You've Got Mail (...|      Comedy|Romance|    20|          hanks|   1188263835|\n",
      "|   2424|You've Got Mail (...|      Comedy|Romance|    20|           ryan|   1188263835|\n",
      "|   2947|   Goldfinger (1964)|Action|Adventure|...|    20|         action|   1188263755|\n",
      "|   2947|   Goldfinger (1964)|Action|Adventure|...|    20|           bond|   1188263756|\n",
      "|   3033|   Spaceballs (1987)|       Comedy|Sci-Fi|    20|          spoof|   1188263880|\n",
      "|   3033|   Spaceballs (1987)|       Comedy|Sci-Fi|    20|      star wars|   1188263880|\n",
      "|   7438|Kill Bill: Vol. 2...|Action|Drama|Thri...|    20|         bloody|   1188263801|\n",
      "|   7438|Kill Bill: Vol. 2...|Action|Drama|Thri...|    20|        kung fu|   1188263801|\n",
      "|   7438|Kill Bill: Vol. 2...|Action|Drama|Thri...|    20|      Tarantino|   1188263801|\n",
      "+-------+--------------------+--------------------+------+---------------+-------------+\n",
      "only showing top 13 rows\n",
      "\n"
     ]
    }
   ],
   "source": [
    "#INNER JOIN movies_df & tags_df\n",
    "moviesNtags = movies_df.join(tags_df,movies_df.MovieID == tags_df.MovieID, 'inner').select(\n",
    "        movies_df.MovieID,movies_df.Titles,movies_df.Genres,tags_df.UserID,tags_df.Tag, tags_df.Tag_Timestamp)\\\n",
    "           .orderBy(\"UserID\", ascending=True)\n",
    "\n",
    "moviesNtags.show(13)"
   ]
  },
  {
   "cell_type": "markdown",
   "id": "ebfebecf-8994-4004-81fe-8723acbbdb88",
   "metadata": {},
   "source": [
    "<a id=\"5\"></a>\n",
    "## k-Most tagged movies of all time\n",
    "### Finding k most tagged movies of all times assuming k=10\n",
    "#### Considering tagging timestamp, not the movie realease time"
   ]
  },
  {
   "cell_type": "code",
   "execution_count": 18,
   "id": "a87b53b3-f387-4933-8372-eec3bb6d9173",
   "metadata": {},
   "outputs": [
    {
     "name": "stdout",
     "output_type": "stream",
     "text": [
      "+-------+--------------------+-----+\n",
      "|MovieID|              Titles|count|\n",
      "+-------+--------------------+-----+\n",
      "|    296| Pulp Fiction (1994)|  308|\n",
      "|    318|Shawshank Redempt...|  257|\n",
      "|   2959|   Fight Club (1999)|  235|\n",
      "|    527|Schindler's List ...|  232|\n",
      "|   2571|  Matrix, The (1999)|  223|\n",
      "|    260|Star Wars: Episod...|  223|\n",
      "|   7361|Eternal Sunshine ...|  221|\n",
      "|  44191|V for Vendetta (2...|  209|\n",
      "|    858|Godfather, The (1...|  205|\n",
      "|    593|Silence of the La...|  203|\n",
      "+-------+--------------------+-----+\n",
      "only showing top 10 rows\n",
      "\n"
     ]
    }
   ],
   "source": [
    "most_tagged_movies = moviesNtags.groupBy(\"MovieID\",\"Titles\").count().orderBy(\"count\", ascending=False)\n",
    "\n",
    "#writing to file\n",
    "most_tagged_movies.limit(k).write.csv(output_csv_path, header=True, mode=\"append\")\n",
    "most_tagged_movies.show(k)"
   ]
  },
  {
   "cell_type": "markdown",
   "id": "87948474-d50b-400a-8e9c-c3d452eff805",
   "metadata": {},
   "source": [
    "<a id=\"6\"></a>\n",
    "## k-Most commonly used tags for movies of all time\n",
    "### Finding k most commomly used tags for movies of all times, assuming k=10"
   ]
  },
  {
   "cell_type": "code",
   "execution_count": 19,
   "id": "cd6d2ccb-340d-46ce-b7f1-202a244770e8",
   "metadata": {},
   "outputs": [
    {
     "name": "stdout",
     "output_type": "stream",
     "text": [
      "+--------------------+-----+\n",
      "|                 Tag|count|\n",
      "+--------------------+-----+\n",
      "|        Tumey's DVDs|  641|\n",
      "|             classic|  619|\n",
      "|     based on a book|  549|\n",
      "|                   R|  518|\n",
      "|less than 300 rat...|  505|\n",
      "|                70mm|  464|\n",
      "|    Nudity (Topless)|  464|\n",
      "|       erlend's DVDs|  404|\n",
      "|Oscar (Best Picture)|  400|\n",
      "|              comedy|  393|\n",
      "+--------------------+-----+\n",
      "only showing top 10 rows\n",
      "\n"
     ]
    }
   ],
   "source": [
    "most_used_tags = moviesNtags.groupBy(\"Tag\").count().orderBy(\"count\", ascending=False)\n",
    "\n",
    "#writing to file\n",
    "most_used_tags.limit(k).write.csv(output_csv_path, header=True, mode=\"append\")\n",
    "most_used_tags.show(k)"
   ]
  },
  {
   "cell_type": "markdown",
   "id": "db63ef97-a6c5-4208-9544-802d3a5fbdc1",
   "metadata": {},
   "source": [
    "<a id=\"7\"></a>\n",
    "## k-Most commonly used tags for the most common genre of the dataset\n",
    "### Finding the most common genre of the dataset,then finding the k-most common tags for that genre, assuming k=10"
   ]
  },
  {
   "cell_type": "code",
   "execution_count": 20,
   "id": "d1a97622-8b95-4283-b456-dee6ef8fbaae",
   "metadata": {},
   "outputs": [
    {
     "name": "stdout",
     "output_type": "stream",
     "text": [
      "+-------+--------------------+------+---------------+-------------+-------+\n",
      "|MovieID|              Titles|UserID|            Tag|Tag_Timestamp|  Genre|\n",
      "+-------+--------------------+------+---------------+-------------+-------+\n",
      "|   4973|Amelie (Fabuleux ...|    15|     excellent!|   1215184630| Comedy|\n",
      "|   4973|Amelie (Fabuleux ...|    15|     excellent!|   1215184630|Romance|\n",
      "|   1747|  Wag the Dog (1997)|    20|       politics|   1188263867| Comedy|\n",
      "|   1747|  Wag the Dog (1997)|    20|         satire|   1188263867| Comedy|\n",
      "|   2424|You've Got Mail (...|    20|chick flick 212|   1188263835| Comedy|\n",
      "+-------+--------------------+------+---------------+-------------+-------+\n",
      "only showing top 5 rows\n",
      "\n"
     ]
    }
   ],
   "source": [
    "#Exploding Genre\n",
    "movie_tagsNgenre = moviesNtags.withColumn(\"Genre\", explode(split(trim(col(\"Genres\")), \"\\\\|\"))).drop('Genres')\n",
    "movie_tagsNgenre.show(5)"
   ]
  },
  {
   "cell_type": "code",
   "execution_count": 21,
   "id": "1c5d5919-83fb-492a-aa40-1fdf62a5f513",
   "metadata": {},
   "outputs": [
    {
     "name": "stdout",
     "output_type": "stream",
     "text": [
      "+------------------+-----+\n",
      "|             Genre|count|\n",
      "+------------------+-----+\n",
      "|             Drama|51136|\n",
      "|            Comedy|31125|\n",
      "|          Thriller|23282|\n",
      "|            Action|22526|\n",
      "|         Adventure|17759|\n",
      "|           Romance|17518|\n",
      "|             Crime|14847|\n",
      "|            Sci-Fi|12205|\n",
      "|           Fantasy|10702|\n",
      "|            Horror| 7516|\n",
      "|           Mystery| 7185|\n",
      "|               War| 6708|\n",
      "|          Children| 6357|\n",
      "|         Animation| 5264|\n",
      "|           Musical| 4524|\n",
      "|       Documentary| 2704|\n",
      "|         Film-Noir| 2266|\n",
      "|           Western| 1841|\n",
      "|              IMAX|  167|\n",
      "|(no genres listed)|    6|\n",
      "+------------------+-----+\n",
      "\n"
     ]
    }
   ],
   "source": [
    "#Finding the most common genre which is our targer genre\n",
    "genre_counts = movie_tagsNgenre.groupBy(\"Genre\").count().orderBy(\"count\", ascending=False)\n",
    "target_genre = genre_counts.collect()[0][0]\n",
    "genre_counts.show(25)"
   ]
  },
  {
   "cell_type": "code",
   "execution_count": 22,
   "id": "024840a3-b658-47e7-a00b-2c843be3b6e5",
   "metadata": {},
   "outputs": [
    {
     "name": "stdout",
     "output_type": "stream",
     "text": [
      "+------+---------------+-----+\n",
      "| Genre|            Tag|count|\n",
      "+------+---------------+-----+\n",
      "| Drama|   Tumey's DVDs|  403|\n",
      "|Comedy|         comedy|  374|\n",
      "| Drama|              R|  371|\n",
      "| Drama|based on a book|  354|\n",
      "|Sci-Fi|         sci-fi|  345|\n",
      "+------+---------------+-----+\n",
      "only showing top 5 rows\n",
      "\n"
     ]
    }
   ],
   "source": [
    "# Calculating the count of each tags for each genre\n",
    "r_movie_tagsNgenre = movie_tagsNgenre.groupBy(\"Genre\",\"Tag\").count().orderBy(['count','Genre'], ascending=[False, False])\n",
    "r_movie_tagsNgenre.show(5)"
   ]
  },
  {
   "cell_type": "code",
   "execution_count": 23,
   "id": "86fa7367-3c85-4988-9bb2-0e42b43083ce",
   "metadata": {},
   "outputs": [
    {
     "name": "stdout",
     "output_type": "stream",
     "text": [
      "+-------+--------------------+------+-------------+-------------+-----+\n",
      "|MovieID|              Titles|UserID|          Tag|Tag_Timestamp|Genre|\n",
      "+-------+--------------------+------+-------------+-------------+-----+\n",
      "|   7438|Kill Bill: Vol. 2...|    20|       bloody|   1188263801|Drama|\n",
      "|   7438|Kill Bill: Vol. 2...|    20|      kung fu|   1188263801|Drama|\n",
      "|   7438|Kill Bill: Vol. 2...|    20|    Tarantino|   1188263801|Drama|\n",
      "|  55247|Into the Wild (2007)|    21|            R|   1205081506|Drama|\n",
      "|  55253|Lust, Caution (Se...|    21|        NC-17|   1205081488|Drama|\n",
      "|    277|Miracle on 34th S...|    39|      classic|   1188263791|Drama|\n",
      "|    724|   Craft, The (1996)|    39|         goth|   1188263843|Drama|\n",
      "|    198| Strange Days (1995)|    49|Ralph Fiennes|   1188264255|Drama|\n",
      "|    261| Little Women (1994)|    49| Winona Ryder|   1188264178|Drama|\n",
      "|   1597|Conspiracy Theory...|    49|Julia Roberts|   1188264095|Drama|\n",
      "+-------+--------------------+------+-------------+-------------+-----+\n",
      "only showing top 10 rows\n",
      "\n"
     ]
    }
   ],
   "source": [
    "tags_for_target_genre = movie_tagsNgenre.where(col(\"Genre\")== target_genre)\n",
    "\n",
    "#writing to file\n",
    "tags_for_target_genre.limit(k).write.csv(output_csv_path, header=True, mode=\"append\")\n",
    "tags_for_target_genre.show(k)"
   ]
  },
  {
   "cell_type": "markdown",
   "id": "ebdbd173-f220-4ec2-9df4-fae2be9f124f",
   "metadata": {},
   "source": [
    "<a id=\"8\"></a>\n",
    "## Finding the month of the year where movies get most tags based on tagging timestamp"
   ]
  },
  {
   "cell_type": "code",
   "execution_count": 24,
   "id": "f8a832e0-772a-4dea-8720-03b35916693d",
   "metadata": {},
   "outputs": [
    {
     "name": "stdout",
     "output_type": "stream",
     "text": [
      "+-------+--------------------+---------------+-----+\n",
      "|MovieID|              Titles|            Tag|Month|\n",
      "+-------+--------------------+---------------+-----+\n",
      "|   4973|Amelie (Fabuleux ...|     excellent!|    7|\n",
      "|   1747|  Wag the Dog (1997)|       politics|    8|\n",
      "|   1747|  Wag the Dog (1997)|         satire|    8|\n",
      "|   2424|You've Got Mail (...|chick flick 212|    8|\n",
      "|   2424|You've Got Mail (...|          hanks|    8|\n",
      "|   2424|You've Got Mail (...|           ryan|    8|\n",
      "|   2947|   Goldfinger (1964)|         action|    8|\n",
      "|   2947|   Goldfinger (1964)|           bond|    8|\n",
      "|   3033|   Spaceballs (1987)|          spoof|    8|\n",
      "|   3033|   Spaceballs (1987)|      star wars|    8|\n",
      "|   7438|Kill Bill: Vol. 2...|         bloody|    8|\n",
      "|   7438|Kill Bill: Vol. 2...|        kung fu|    8|\n",
      "|   7438|Kill Bill: Vol. 2...|      Tarantino|    8|\n",
      "|  55247|Into the Wild (2007)|              R|    3|\n",
      "|  55253|Lust, Caution (Se...|          NC-17|    3|\n",
      "+-------+--------------------+---------------+-----+\n",
      "only showing top 15 rows\n",
      "\n"
     ]
    }
   ],
   "source": [
    "moviesNtags_withMonth = moviesNtags.withColumn(\"Month\", month(from_unixtime(\"Tag_Timestamp\")))\\\n",
    "                               .select(\"MovieID\",\"Titles\",\"Tag\",\"Month\")\n",
    "moviesNtags_withMonth.show(15)"
   ]
  },
  {
   "cell_type": "code",
   "execution_count": 25,
   "id": "100b4dc8-bb71-405f-8dbf-267a57696d9b",
   "metadata": {},
   "outputs": [
    {
     "name": "stdout",
     "output_type": "stream",
     "text": [
      "+-----+-----+\n",
      "|Month|count|\n",
      "+-----+-----+\n",
      "|    2|14145|\n",
      "|    1|13523|\n",
      "|    8| 8733|\n",
      "|    3| 8060|\n",
      "|    4| 7597|\n",
      "|    7| 7578|\n",
      "|    6| 6839|\n",
      "|   12| 6833|\n",
      "|    5| 6095|\n",
      "|    9| 5545|\n",
      "|   10| 5396|\n",
      "|   11| 5096|\n",
      "+-----+-----+\n",
      "\n"
     ]
    }
   ],
   "source": [
    "moviesNtags_withMonth = moviesNtags_withMonth.groupBy(\"Month\").count().orderBy('count',ascending = False)\n",
    "\n",
    "#writing to file\n",
    "moviesNtags_withMonth.limit(12).write.csv(output_csv_path, header=True, mode=\"append\")\n",
    "moviesNtags_withMonth.show(12)"
   ]
  },
  {
   "cell_type": "markdown",
   "id": "5ed07fe9-9e61-403d-8955-bb9182a8c23f",
   "metadata": {},
   "source": [
    "<a id=\"9\"></a>\n",
    "## For a particular genre which month is getting most tags\n",
    "### selecting genre = Thriller"
   ]
  },
  {
   "cell_type": "code",
   "execution_count": 26,
   "id": "348a83ce-a8c4-42a2-8d0a-b3b844972b4f",
   "metadata": {},
   "outputs": [
    {
     "name": "stdout",
     "output_type": "stream",
     "text": [
      "+-------+--------------------+--------+-----------------+-----+\n",
      "|MovieID|              Titles|  Genres|              Tag|Month|\n",
      "+-------+--------------------+--------+-----------------+-----+\n",
      "|   1343|    Cape Fear (1991)|Thriller|           horror|    8|\n",
      "|   1343|    Cape Fear (1991)|Thriller|           killer|    8|\n",
      "|   1343|    Cape Fear (1991)|Thriller|          stalker|    8|\n",
      "|    240|     Hideaway (1995)|Thriller|  based on a book|   10|\n",
      "|    240|     Hideaway (1995)|Thriller|      Dean Koontz|   10|\n",
      "|   1892|Perfect Murder, A...|Thriller|  based on a play|    4|\n",
      "|   3005|Bone Collector, T...|Thriller|  based on a book|   11|\n",
      "|   3015|         Coma (1978)|Thriller|  based on a book|    8|\n",
      "|   4803|Play Misty for Me...|Thriller|directorial debut|    4|\n",
      "|   5294|      Frailty (2001)|Thriller|    serial killer|    5|\n",
      "+-------+--------------------+--------+-----------------+-----+\n",
      "only showing top 10 rows\n",
      "\n"
     ]
    }
   ],
   "source": [
    "moviesNtags_Mn_Gn = moviesNtags.withColumn(\"Month\", month(from_unixtime(\"Tag_Timestamp\")))\\\n",
    "                               .select(\"MovieID\",\"Titles\",\"Genres\",\"Tag\",\"Month\").where(col('Genres') == 'Thriller')\n",
    "moviesNtags_Mn_Gn.show(k)"
   ]
  },
  {
   "cell_type": "code",
   "execution_count": 27,
   "id": "5be0ac42-7e41-439d-9404-36580c282174",
   "metadata": {},
   "outputs": [
    {
     "name": "stdout",
     "output_type": "stream",
     "text": [
      "+-----+-----+\n",
      "|Month|count|\n",
      "+-----+-----+\n",
      "|    4|  104|\n",
      "|    8|  100|\n",
      "|    5|   79|\n",
      "|    1|   78|\n",
      "|    2|   67|\n",
      "|    6|   54|\n",
      "|    7|   51|\n",
      "|    3|   50|\n",
      "|    9|   48|\n",
      "|   12|   29|\n",
      "|   10|   25|\n",
      "|   11|   25|\n",
      "+-----+-----+\n",
      "\n"
     ]
    }
   ],
   "source": [
    "moviesNtags_Mn_Gn = moviesNtags_Mn_Gn.groupBy(\"Month\").count().orderBy('count',ascending = False)\n",
    "\n",
    "#writing to file\n",
    "moviesNtags_Mn_Gn.limit(12).write.csv(output_csv_path, header=True, mode=\"append\")\n",
    "moviesNtags_Mn_Gn.show(12)"
   ]
  },
  {
   "cell_type": "code",
   "execution_count": 28,
   "id": "7e194a57-1bf0-4531-a2e9-59d2f5632dca",
   "metadata": {},
   "outputs": [],
   "source": [
    "#stopping spark\n",
    "spark.stop()"
   ]
  }
 ],
 "metadata": {
  "kernelspec": {
   "display_name": "Python 3",
   "language": "python",
   "name": "python3"
  },
  "language_info": {
   "codemirror_mode": {
    "name": "ipython",
    "version": 3
   },
   "file_extension": ".py",
   "mimetype": "text/x-python",
   "name": "python",
   "nbconvert_exporter": "python",
   "pygments_lexer": "ipython3",
   "version": "3.8.8"
  }
 },
 "nbformat": 4,
 "nbformat_minor": 5
}
